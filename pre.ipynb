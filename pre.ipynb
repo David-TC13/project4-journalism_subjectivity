{
 "cells": [
  {
   "cell_type": "code",
   "execution_count": 2,
   "id": "4fd74b91",
   "metadata": {},
   "outputs": [],
   "source": [
    "import pandas as pd\n",
    "import datetime as dt\n",
    "import pandas_datareader.data as web\n",
    "import requests\n",
    "import json\n",
    "from pandas import json_normalize\n",
    "from pyaxis import pyaxis\n",
    "import pandasdmx"
   ]
  },
  {
   "cell_type": "markdown",
   "id": "946b507f",
   "metadata": {},
   "source": [
    "url='https://stats.oecd.org/SDMX-JSON/data/BLI/AUS+AUT+BEL+CAN+CHL+COL+CRI+CZE+DNK+EST+FIN+FRA+DEU+GRC+HUN+ISL+IRL+ISR+ITA+JPN+KOR+LVA+LTU+LUX+MEX+NLD+NZL+NOR+POL+PRT+SVK+SVN+ESP+SWE+CHE+TUR+GBR+USA+OECD.JE_LMIS+JE_EMPL+SC_SNTWS+ES_EDUA+CG_SENG+HS_LEB+SW_LIFS+PS_REPH+WL_EWLH.L.TOT/all?'\n",
    "url_1= 'https://stats.oecd.org/SDMX-JSON/data/BLI/AUS+AUT+BEL+CAN+CHL+COL+CRI+CZE+DNK+EST+FIN+FRA+DEU+GRC+HUN+ISL+IRL+ISR+ITA+JPN+KOR+LVA+LTU+LUX+MEX+NLD+NZL+NOR+POL+PRT+SVK+SVN+ESP+SWE+CHE+TUR+GBR+USA+OECD.JE_LMIS+JE_EMPL+SC_SNTWS+ES_EDUA+CG_SENG+HS_LEB+SW_LIFS+PS_REPH+WL_EWLH.L.TOT/all?&dimensionAtObservation=allDimensions'"
   ]
  },
  {
   "cell_type": "markdown",
   "id": "953a22b8",
   "metadata": {},
   "source": [
    "r= requests.get(url_1)\n",
    "r"
   ]
  },
  {
   "cell_type": "markdown",
   "id": "57da6519",
   "metadata": {},
   "source": [
    "oecd = pandasdmx.Request('OECD')\n",
    "oecd\n",
    "ecb = pandasdmx.Request('ECB')\n",
    "flow_msg = ecb.dataflow()"
   ]
  },
  {
   "cell_type": "markdown",
   "id": "de09b168",
   "metadata": {},
   "source": [
    "flow_msg = ecb.dataflow(force=True)"
   ]
  },
  {
   "cell_type": "code",
   "execution_count": 3,
   "id": "483cb2d5",
   "metadata": {},
   "outputs": [],
   "source": [
    "df = pd.read_csv('data/BLI_23022023084322834.csv')"
   ]
  },
  {
   "cell_type": "code",
   "execution_count": 4,
   "id": "d3c2514a",
   "metadata": {},
   "outputs": [
    {
     "data": {
      "text/plain": [
       "LOCATION                    0\n",
       "Country                     0\n",
       "INDICATOR                   0\n",
       "Indicator                   0\n",
       "MEASURE                     0\n",
       "Measure                     0\n",
       "INEQUALITY                  0\n",
       "Inequality                  0\n",
       "Unit Code                   0\n",
       "Unit                        0\n",
       "PowerCode Code              0\n",
       "PowerCode                   0\n",
       "Reference Period Code    1510\n",
       "Reference Period         1510\n",
       "Value                       0\n",
       "Flag Codes               1510\n",
       "Flags                    1510\n",
       "dtype: int64"
      ]
     },
     "execution_count": 4,
     "metadata": {},
     "output_type": "execute_result"
    }
   ],
   "source": [
    "df.isna().sum()"
   ]
  },
  {
   "cell_type": "code",
   "execution_count": 5,
   "id": "ff7ec717",
   "metadata": {},
   "outputs": [
    {
     "data": {
      "text/html": [
       "<div>\n",
       "<style scoped>\n",
       "    .dataframe tbody tr th:only-of-type {\n",
       "        vertical-align: middle;\n",
       "    }\n",
       "\n",
       "    .dataframe tbody tr th {\n",
       "        vertical-align: top;\n",
       "    }\n",
       "\n",
       "    .dataframe thead th {\n",
       "        text-align: right;\n",
       "    }\n",
       "</style>\n",
       "<table border=\"1\" class=\"dataframe\">\n",
       "  <thead>\n",
       "    <tr style=\"text-align: right;\">\n",
       "      <th></th>\n",
       "      <th>LOCATION</th>\n",
       "      <th>Country</th>\n",
       "      <th>INDICATOR</th>\n",
       "      <th>Indicator</th>\n",
       "      <th>MEASURE</th>\n",
       "      <th>Measure</th>\n",
       "      <th>INEQUALITY</th>\n",
       "      <th>Inequality</th>\n",
       "      <th>Unit Code</th>\n",
       "      <th>Unit</th>\n",
       "      <th>PowerCode Code</th>\n",
       "      <th>PowerCode</th>\n",
       "      <th>Reference Period Code</th>\n",
       "      <th>Reference Period</th>\n",
       "      <th>Value</th>\n",
       "      <th>Flag Codes</th>\n",
       "      <th>Flags</th>\n",
       "    </tr>\n",
       "  </thead>\n",
       "  <tbody>\n",
       "    <tr>\n",
       "      <th>1475</th>\n",
       "      <td>LTU</td>\n",
       "      <td>Lithuania</td>\n",
       "      <td>ES_EDUA</td>\n",
       "      <td>Educational attainment</td>\n",
       "      <td>L</td>\n",
       "      <td>Value</td>\n",
       "      <td>TOT</td>\n",
       "      <td>Total</td>\n",
       "      <td>PC</td>\n",
       "      <td>Percentage</td>\n",
       "      <td>0</td>\n",
       "      <td>Units</td>\n",
       "      <td>NaN</td>\n",
       "      <td>NaN</td>\n",
       "      <td>94.0</td>\n",
       "      <td>NaN</td>\n",
       "      <td>NaN</td>\n",
       "    </tr>\n",
       "  </tbody>\n",
       "</table>\n",
       "</div>"
      ],
      "text/plain": [
       "     LOCATION    Country INDICATOR               Indicator MEASURE Measure  \\\n",
       "1475      LTU  Lithuania   ES_EDUA  Educational attainment       L   Value   \n",
       "\n",
       "     INEQUALITY Inequality Unit Code        Unit  PowerCode Code PowerCode  \\\n",
       "1475        TOT      Total        PC  Percentage               0     Units   \n",
       "\n",
       "      Reference Period Code  Reference Period  Value  Flag Codes  Flags  \n",
       "1475                    NaN               NaN   94.0         NaN    NaN  "
      ]
     },
     "execution_count": 5,
     "metadata": {},
     "output_type": "execute_result"
    }
   ],
   "source": [
    "df.sample()"
   ]
  },
  {
   "cell_type": "code",
   "execution_count": 6,
   "id": "4d86e375",
   "metadata": {},
   "outputs": [],
   "source": [
    "df.drop(columns= ['LOCATION','INDICATOR', 'MEASURE', 'INEQUALITY','Unit Code', 'Reference Period Code','Reference Period', 'Flag Codes', 'Flags'], inplace=True)"
   ]
  },
  {
   "cell_type": "code",
   "execution_count": 10,
   "id": "c3665733",
   "metadata": {},
   "outputs": [],
   "source": [
    "df = df.groupby(by= df['Country'])"
   ]
  },
  {
   "cell_type": "code",
   "execution_count": 11,
   "id": "3c6b1bfe",
   "metadata": {},
   "outputs": [
    {
     "data": {
      "text/plain": [
       "<pandas.core.groupby.generic.DataFrameGroupBy object at 0x12e841280>"
      ]
     },
     "execution_count": 11,
     "metadata": {},
     "output_type": "execute_result"
    }
   ],
   "source": [
    "df"
   ]
  },
  {
   "cell_type": "code",
   "execution_count": null,
   "id": "eeac2b46",
   "metadata": {},
   "outputs": [],
   "source": []
  }
 ],
 "metadata": {
  "kernelspec": {
   "display_name": "ironhack",
   "language": "python",
   "name": "ironhack"
  },
  "language_info": {
   "codemirror_mode": {
    "name": "ipython",
    "version": 3
   },
   "file_extension": ".py",
   "mimetype": "text/x-python",
   "name": "python",
   "nbconvert_exporter": "python",
   "pygments_lexer": "ipython3",
   "version": "3.9.15"
  },
  "toc": {
   "base_numbering": 1,
   "nav_menu": {},
   "number_sections": true,
   "sideBar": true,
   "skip_h1_title": false,
   "title_cell": "Table of Contents",
   "title_sidebar": "Contents",
   "toc_cell": false,
   "toc_position": {},
   "toc_section_display": true,
   "toc_window_display": false
  }
 },
 "nbformat": 4,
 "nbformat_minor": 5
}
