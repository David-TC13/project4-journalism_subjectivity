{
 "cells": [
  {
   "cell_type": "code",
   "execution_count": 37,
   "id": "d22eb5aa",
   "metadata": {},
   "outputs": [],
   "source": [
    "from selenium import webdriver\n",
    "from selenium.webdriver.common.keys import Keys\n",
    "from selenium.webdriver.common.by import By\n",
    "from selenium.webdriver.support.ui import WebDriverWait\n",
    "from selenium.webdriver.support import expected_conditions as EC\n",
    "from selenium import webdriver\n",
    "from selenium.webdriver.support.ui import Select\n",
    "\n",
    "from bs4 import BeautifulSoup\n",
    "import re as re\n",
    "import time\n",
    "import pandas as pd\n",
    "import os\n",
    "import numpy as np\n",
    "\n",
    "import pymysql\n",
    "import sqlalchemy as alch\n",
    "from getpass import getpass\n",
    "\n",
    "import googletrans\n",
    "from nltk.sentiment.vader import SentimentIntensityAnalyzer\n",
    "import spacy"
   ]
  },
  {
   "cell_type": "code",
   "execution_count": 38,
   "id": "5df75049",
   "metadata": {},
   "outputs": [],
   "source": [
    "driver = webdriver.Chrome()\n",
    "url= 'https://www.aljazeera.com/'\n",
    "driver.get(url)"
   ]
  },
  {
   "cell_type": "code",
   "execution_count": 39,
   "id": "ff3d74c2",
   "metadata": {},
   "outputs": [],
   "source": [
    "cookies_accept = driver.find_element(By.CLASS_NAME, \"icon--search\").click()\n",
    "time.sleep(5)\n"
   ]
  },
  {
   "cell_type": "code",
   "execution_count": 40,
   "id": "c1944081",
   "metadata": {},
   "outputs": [],
   "source": [
    "search_container= driver.find_element(By.CLASS_NAME, 'search-bar__input-container').click"
   ]
  },
  {
   "cell_type": "code",
   "execution_count": 41,
   "id": "8db37909",
   "metadata": {},
   "outputs": [],
   "source": [
    "search_bar     = driver.find_element(By.CLASS_NAME, 'search-bar__input')\n",
    "search_bar.send_keys('Ukraine war')\n",
    "search_bar.send_keys(Keys.RETURN)\n"
   ]
  },
  {
   "cell_type": "code",
   "execution_count": 42,
   "id": "6b16b63a",
   "metadata": {
    "scrolled": true
   },
   "outputs": [],
   "source": [
    "lnks=driver.find_elements(By.TAG_NAME,\"a\")\n",
    "lst_aljazeera=[lnk.get_attribute('href') for lnk in lnks]"
   ]
  },
  {
   "cell_type": "code",
   "execution_count": 34,
   "id": "0a0d833c",
   "metadata": {},
   "outputs": [],
   "source": [
    "lst_aljazeera_ukr = [url for url in lst_aljazeera if re.search('https://www.aljazeera.com/news', url)]"
   ]
  },
  {
   "cell_type": "code",
   "execution_count": 35,
   "id": "445f9d32",
   "metadata": {},
   "outputs": [
    {
     "data": {
      "text/plain": [
       "8"
      ]
     },
     "execution_count": 35,
     "metadata": {},
     "output_type": "execute_result"
    }
   ],
   "source": [
    "len(lst_aljazeera_ukr)"
   ]
  },
  {
   "cell_type": "code",
   "execution_count": 36,
   "id": "422a9e06",
   "metadata": {},
   "outputs": [
    {
     "data": {
      "text/plain": [
       "['https://www.aljazeera.com/news/',\n",
       " 'https://www.aljazeera.com/news/2022/2/28/russia-ukraine-crisis-in-maps-and-charts-live-news-interactive',\n",
       " 'https://www.aljazeera.com/news/2023/2/5/mission-completed-ukraine-minister-says-warplanes-on-the-way',\n",
       " 'https://www.aljazeera.com/news/2023/1/30/ukraines-zelenskyy-says-russias-big-revenge-has-begun',\n",
       " 'https://www.aljazeera.com/news/2022/6/4/fighting-rages-in-two-key-eastern-ukrainian-cities',\n",
       " 'https://www.aljazeera.com/news/2023/1/18/britains-challenger-raises-hopes-of-battle-tanks-for-ukraine',\n",
       " 'https://www.aljazeera.com/news/2023/1/22/russia-ukraine-war-list-of-key-events-day-333',\n",
       " 'https://www.aljazeera.com/news/2023/1/19/a-whole-new-level-of-war-if-nato-arms-ukraine-russia-warns']"
      ]
     },
     "execution_count": 36,
     "metadata": {},
     "output_type": "execute_result"
    }
   ],
   "source": [
    "lst_aljazeera_ukr"
   ]
  },
  {
   "cell_type": "code",
   "execution_count": null,
   "id": "a0467ffa",
   "metadata": {},
   "outputs": [],
   "source": []
  }
 ],
 "metadata": {
  "kernelspec": {
   "display_name": "ironhack",
   "language": "python",
   "name": "ironhack"
  },
  "language_info": {
   "codemirror_mode": {
    "name": "ipython",
    "version": 3
   },
   "file_extension": ".py",
   "mimetype": "text/x-python",
   "name": "python",
   "nbconvert_exporter": "python",
   "pygments_lexer": "ipython3",
   "version": "3.9.15"
  },
  "toc": {
   "base_numbering": 1,
   "nav_menu": {},
   "number_sections": true,
   "sideBar": true,
   "skip_h1_title": false,
   "title_cell": "Table of Contents",
   "title_sidebar": "Contents",
   "toc_cell": false,
   "toc_position": {},
   "toc_section_display": true,
   "toc_window_display": false
  }
 },
 "nbformat": 4,
 "nbformat_minor": 5
}
