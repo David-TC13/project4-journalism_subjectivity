{
 "cells": [
  {
   "cell_type": "code",
   "execution_count": 1,
   "id": "d22eb5aa",
   "metadata": {},
   "outputs": [],
   "source": [
    "from selenium import webdriver\n",
    "from selenium.webdriver.common.keys import Keys\n",
    "from selenium.webdriver.common.by import By\n",
    "from selenium.webdriver.support.ui import WebDriverWait\n",
    "from selenium.webdriver.support import expected_conditions as EC\n",
    "from selenium import webdriver\n",
    "from selenium.webdriver.support.ui import Select\n",
    "\n",
    "import requests\n",
    "from bs4 import BeautifulSoup\n",
    "import re as re\n",
    "import time\n",
    "import pandas as pd\n",
    "import numpy as np\n",
    "\n",
    "from nltk.sentiment.vader import SentimentIntensityAnalyzer\n",
    "import spacy"
   ]
  },
  {
   "cell_type": "code",
   "execution_count": 2,
   "id": "5df75049",
   "metadata": {},
   "outputs": [],
   "source": [
    "def get_aljazeera():\n",
    "    driver = webdriver.Chrome()\n",
    "    url= 'https://www.aljazeera.com/'\n",
    "    driver.get(url)\n",
    "    cookies_accept = driver.find_element(By.CLASS_NAME, \"icon--search\").click()\n",
    "    time.sleep(5)\n",
    "    search_container= driver.find_element(By.CLASS_NAME, 'search-bar__input-container').click\n",
    "    time.sleep(3)\n",
    "    search_bar     = driver.find_element(By.CLASS_NAME, 'search-bar__input')\n",
    "    search_bar.send_keys('Ukraine war')\n",
    "    search_bar.send_keys(Keys.RETURN)\n",
    "    time.sleep(3)\n",
    "    lnks=driver.find_elements(By.TAG_NAME,\"a\")\n",
    "    lst_aljazeera=[lnk.get_attribute('href') for lnk in lnks]\n",
    "    lst_aj=[url for url in lst_aljazeera if '/news/2' in url ]\n",
    "    return lst_aj"
   ]
  },
  {
   "cell_type": "code",
   "execution_count": 3,
   "id": "f1df2d94",
   "metadata": {},
   "outputs": [],
   "source": [
    "def create_dict_aj(lst_aj):\n",
    "    dict_aj={}\n",
    "    for url in lst_aj:\n",
    "        html = requests.get(url)\n",
    "        soup = BeautifulSoup(html.content, \"html.parser\")\n",
    "        article= soup.getText()\n",
    "        article = article[article.find('facebooktwitterwhatsapp'):]\n",
    "        article = article[:article.find('Source: Al Jazeera')]\n",
    "        article = article.replace('\\n','').replace('\\xa0',' ').replace('facebooktwitterwhatsapp','')\n",
    "        dict_aj[url]= article\n",
    "    return dict_aj"
   ]
  },
  {
   "cell_type": "code",
   "execution_count": 8,
   "id": "1b55dcc9",
   "metadata": {},
   "outputs": [],
   "source": [
    "def descriptives(dict_aj):\n",
    "    length=[len(articles) for articles in dict_aj.values()]\n",
    "    ukraine=[articles.lower().count('ukraine') for articles in dict_aj.values()]\n",
    "    war=[articles.lower().count('war') for articles in dict_aj.values()]\n",
    "    russia=[articles.lower().count('russia') for articles in dict_aj.values()]\n",
    "    putin = [articles.lower().count('putin') for articles in dict_aj.values()]\n",
    "    zelensky= [articles.lower().count('zelensky') for articles in dict_aj.values()]\n",
    "    dict_length= {'length':length,'ukraine':ukraine,'war':war, 'russia':russia,'putin':putin,'zelensky':zelensky}\n",
    "    df_aj_descr= pd.DataFrame(dict_length)\n",
    "    return df_aj_descr"
   ]
  },
  {
   "cell_type": "code",
   "execution_count": 4,
   "id": "5b283122",
   "metadata": {},
   "outputs": [],
   "source": [
    "def create_df_aj(dict_aj):\n",
    "    idx= {'article'}\n",
    "    df_aj= pd.DataFrame(dict_aj,idx).transpose().reset_index()\n",
    "    df_aj= df_aj.rename(columns={\"index\": \"link\"})\n",
    "    return df_aj"
   ]
  },
  {
   "cell_type": "code",
   "execution_count": 5,
   "id": "422a9e06",
   "metadata": {},
   "outputs": [],
   "source": [
    "lst_aj = get_aljazeera()"
   ]
  },
  {
   "cell_type": "code",
   "execution_count": 6,
   "id": "f17febc4",
   "metadata": {},
   "outputs": [],
   "source": [
    "dict_aj = create_dict_aj(lst_aj)"
   ]
  },
  {
   "cell_type": "code",
   "execution_count": 10,
   "id": "8a690987",
   "metadata": {
    "scrolled": true
   },
   "outputs": [],
   "source": [
    "df_aj_descr= descriptives(dict_aj)"
   ]
  },
  {
   "cell_type": "code",
   "execution_count": 11,
   "id": "6a51765d",
   "metadata": {},
   "outputs": [],
   "source": [
    "df_aj= create_df_aj(dict_aj)"
   ]
  },
  {
   "cell_type": "code",
   "execution_count": 12,
   "id": "625a28b3",
   "metadata": {},
   "outputs": [],
   "source": [
    "df_aj_all =df_aj.join(df_aj_descr)"
   ]
  },
  {
   "cell_type": "code",
   "execution_count": 13,
   "id": "2ed79ae4",
   "metadata": {},
   "outputs": [
    {
     "data": {
      "text/html": [
       "<div>\n",
       "<style scoped>\n",
       "    .dataframe tbody tr th:only-of-type {\n",
       "        vertical-align: middle;\n",
       "    }\n",
       "\n",
       "    .dataframe tbody tr th {\n",
       "        vertical-align: top;\n",
       "    }\n",
       "\n",
       "    .dataframe thead th {\n",
       "        text-align: right;\n",
       "    }\n",
       "</style>\n",
       "<table border=\"1\" class=\"dataframe\">\n",
       "  <thead>\n",
       "    <tr style=\"text-align: right;\">\n",
       "      <th></th>\n",
       "      <th>link</th>\n",
       "      <th>article</th>\n",
       "      <th>length</th>\n",
       "      <th>ukraine</th>\n",
       "      <th>war</th>\n",
       "      <th>russia</th>\n",
       "      <th>putin</th>\n",
       "      <th>zelensky</th>\n",
       "    </tr>\n",
       "  </thead>\n",
       "  <tbody>\n",
       "    <tr>\n",
       "      <th>0</th>\n",
       "      <td>https://www.aljazeera.com/news/2023/2/26/russi...</td>\n",
       "      <td>Here is the situation as it stands on Sunday, ...</td>\n",
       "      <td>1861</td>\n",
       "      <td>5</td>\n",
       "      <td>4</td>\n",
       "      <td>11</td>\n",
       "      <td>0</td>\n",
       "      <td>0</td>\n",
       "    </tr>\n",
       "    <tr>\n",
       "      <th>1</th>\n",
       "      <td>https://www.aljazeera.com/news/2023/2/16/russi...</td>\n",
       "      <td>Ukraine faced its toughest week so far this ye...</td>\n",
       "      <td>9690</td>\n",
       "      <td>14</td>\n",
       "      <td>8</td>\n",
       "      <td>35</td>\n",
       "      <td>0</td>\n",
       "      <td>2</td>\n",
       "    </tr>\n",
       "    <tr>\n",
       "      <th>2</th>\n",
       "      <td>https://www.aljazeera.com/news/2023/2/21/qa-dr...</td>\n",
       "      <td>Moscow, Russia – As the first anniversary of t...</td>\n",
       "      <td>11422</td>\n",
       "      <td>21</td>\n",
       "      <td>14</td>\n",
       "      <td>55</td>\n",
       "      <td>5</td>\n",
       "      <td>0</td>\n",
       "    </tr>\n",
       "    <tr>\n",
       "      <th>3</th>\n",
       "      <td>https://www.aljazeera.com/news/2023/2/24/russi...</td>\n",
       "      <td>Here is the situation as it stands on Friday, ...</td>\n",
       "      <td>2218</td>\n",
       "      <td>9</td>\n",
       "      <td>4</td>\n",
       "      <td>9</td>\n",
       "      <td>1</td>\n",
       "      <td>1</td>\n",
       "    </tr>\n",
       "    <tr>\n",
       "      <th>4</th>\n",
       "      <td>https://www.aljazeera.com/news/2022/2/28/russi...</td>\n",
       "      <td>As the Russian offensive enters its 368th day,...</td>\n",
       "      <td>7633</td>\n",
       "      <td>27</td>\n",
       "      <td>4</td>\n",
       "      <td>48</td>\n",
       "      <td>3</td>\n",
       "      <td>0</td>\n",
       "    </tr>\n",
       "    <tr>\n",
       "      <th>5</th>\n",
       "      <td>https://www.aljazeera.com/news/2023/1/22/russi...</td>\n",
       "      <td>Here is the situation as it stands on Sunday, ...</td>\n",
       "      <td>2332</td>\n",
       "      <td>5</td>\n",
       "      <td>1</td>\n",
       "      <td>6</td>\n",
       "      <td>0</td>\n",
       "      <td>2</td>\n",
       "    </tr>\n",
       "    <tr>\n",
       "      <th>6</th>\n",
       "      <td>https://www.aljazeera.com/news/2022/8/31/is-uk...</td>\n",
       "      <td>Ukraine’s armed forces claim to have launched ...</td>\n",
       "      <td>6873</td>\n",
       "      <td>12</td>\n",
       "      <td>4</td>\n",
       "      <td>27</td>\n",
       "      <td>0</td>\n",
       "      <td>1</td>\n",
       "    </tr>\n",
       "  </tbody>\n",
       "</table>\n",
       "</div>"
      ],
      "text/plain": [
       "                                                link  \\\n",
       "0  https://www.aljazeera.com/news/2023/2/26/russi...   \n",
       "1  https://www.aljazeera.com/news/2023/2/16/russi...   \n",
       "2  https://www.aljazeera.com/news/2023/2/21/qa-dr...   \n",
       "3  https://www.aljazeera.com/news/2023/2/24/russi...   \n",
       "4  https://www.aljazeera.com/news/2022/2/28/russi...   \n",
       "5  https://www.aljazeera.com/news/2023/1/22/russi...   \n",
       "6  https://www.aljazeera.com/news/2022/8/31/is-uk...   \n",
       "\n",
       "                                             article  length  ukraine  war  \\\n",
       "0  Here is the situation as it stands on Sunday, ...    1861        5    4   \n",
       "1  Ukraine faced its toughest week so far this ye...    9690       14    8   \n",
       "2  Moscow, Russia – As the first anniversary of t...   11422       21   14   \n",
       "3  Here is the situation as it stands on Friday, ...    2218        9    4   \n",
       "4  As the Russian offensive enters its 368th day,...    7633       27    4   \n",
       "5  Here is the situation as it stands on Sunday, ...    2332        5    1   \n",
       "6  Ukraine’s armed forces claim to have launched ...    6873       12    4   \n",
       "\n",
       "   russia  putin  zelensky  \n",
       "0      11      0         0  \n",
       "1      35      0         2  \n",
       "2      55      5         0  \n",
       "3       9      1         1  \n",
       "4      48      3         0  \n",
       "5       6      0         2  \n",
       "6      27      0         1  "
      ]
     },
     "execution_count": 13,
     "metadata": {},
     "output_type": "execute_result"
    }
   ],
   "source": [
    "df_aj_all"
   ]
  },
  {
   "cell_type": "code",
   "execution_count": null,
   "id": "487f5733",
   "metadata": {},
   "outputs": [],
   "source": []
  }
 ],
 "metadata": {
  "kernelspec": {
   "display_name": "ironhack",
   "language": "python",
   "name": "ironhack"
  },
  "language_info": {
   "codemirror_mode": {
    "name": "ipython",
    "version": 3
   },
   "file_extension": ".py",
   "mimetype": "text/x-python",
   "name": "python",
   "nbconvert_exporter": "python",
   "pygments_lexer": "ipython3",
   "version": "3.9.15"
  },
  "toc": {
   "base_numbering": 1,
   "nav_menu": {},
   "number_sections": true,
   "sideBar": true,
   "skip_h1_title": false,
   "title_cell": "Table of Contents",
   "title_sidebar": "Contents",
   "toc_cell": false,
   "toc_position": {},
   "toc_section_display": true,
   "toc_window_display": false
  }
 },
 "nbformat": 4,
 "nbformat_minor": 5
}
