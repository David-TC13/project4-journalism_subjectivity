{
 "cells": [
  {
   "cell_type": "markdown",
   "id": "ce22412f",
   "metadata": {},
   "source": [
    "# Libraries to use"
   ]
  },
  {
   "cell_type": "code",
   "execution_count": 1,
   "id": "56bb0b9e",
   "metadata": {},
   "outputs": [],
   "source": [
    "from selenium import webdriver\n",
    "from selenium.webdriver.common.keys import Keys\n",
    "from selenium.webdriver.common.by import By\n",
    "from selenium.webdriver.support.ui import WebDriverWait\n",
    "from selenium.webdriver.support import expected_conditions as EC\n",
    "from selenium import webdriver\n",
    "from selenium.webdriver.support.ui import Select\n",
    "\n",
    "import requests\n",
    "from bs4 import BeautifulSoup\n",
    "import re as re\n",
    "import time\n",
    "import pandas as pd\n",
    "import numpy as np\n",
    "\n",
    "import pymysql\n",
    "import sqlalchemy as alch\n",
    "from sqlalchemy import create_engine\n",
    "from getpass import getpass\n",
    "\n",
    "import nltk\n",
    "from nltk.sentiment.vader import SentimentIntensityAnalyzer\n",
    "from nltk.corpus import stopwords\n",
    "\n",
    "from wordcloud import WordCloud\n",
    "from langdetect import detect\n",
    "from textblob import TextBlob\n"
   ]
  },
  {
   "cell_type": "markdown",
   "id": "8b8d3a04",
   "metadata": {},
   "source": [
    "# Import Al-Jazeera file and creating the DF"
   ]
  },
  {
   "cell_type": "code",
   "execution_count": 2,
   "id": "742ab225",
   "metadata": {},
   "outputs": [],
   "source": [
    "import src.aljazeera as aj"
   ]
  },
  {
   "cell_type": "code",
   "execution_count": 3,
   "id": "d606cc49",
   "metadata": {},
   "outputs": [],
   "source": [
    "lst_aj = aj.get_aljazeera() # obtaining all the links of ukraine news"
   ]
  },
  {
   "cell_type": "code",
   "execution_count": 4,
   "id": "1d9ab548",
   "metadata": {},
   "outputs": [],
   "source": [
    "dict_aj = aj.create_dict_aj(lst_aj) # creating a dictionary with links and content"
   ]
  },
  {
   "cell_type": "code",
   "execution_count": 5,
   "id": "f537c1ab",
   "metadata": {},
   "outputs": [],
   "source": [
    "df_aj_descr= aj.descriptives(dict_aj) # counts words 'ukraine','war','russia','putin','zelensky' and sentimental analysis."
   ]
  },
  {
   "cell_type": "code",
   "execution_count": 6,
   "id": "b3e27f14",
   "metadata": {},
   "outputs": [],
   "source": [
    "df_aj= aj.create_df_aj(dict_aj) # creates a DataFrame with the links and articles, transposing and creating a new index"
   ]
  },
  {
   "cell_type": "code",
   "execution_count": 7,
   "id": "b4ffdf78",
   "metadata": {},
   "outputs": [],
   "source": [
    "df_aj_all =df_aj.join(df_aj_descr) #join both DF"
   ]
  },
  {
   "cell_type": "code",
   "execution_count": 8,
   "id": "c15de449",
   "metadata": {},
   "outputs": [],
   "source": [
    "df_aj_all.to_csv('data/aljazeera.csv') #save data into a file"
   ]
  },
  {
   "cell_type": "code",
   "execution_count": 9,
   "id": "b31fc993",
   "metadata": {},
   "outputs": [
    {
     "data": {
      "text/html": [
       "<div>\n",
       "<style scoped>\n",
       "    .dataframe tbody tr th:only-of-type {\n",
       "        vertical-align: middle;\n",
       "    }\n",
       "\n",
       "    .dataframe tbody tr th {\n",
       "        vertical-align: top;\n",
       "    }\n",
       "\n",
       "    .dataframe thead th {\n",
       "        text-align: right;\n",
       "    }\n",
       "</style>\n",
       "<table border=\"1\" class=\"dataframe\">\n",
       "  <thead>\n",
       "    <tr style=\"text-align: right;\">\n",
       "      <th></th>\n",
       "      <th>link</th>\n",
       "      <th>article</th>\n",
       "      <th>polarity</th>\n",
       "      <th>subjectivity</th>\n",
       "      <th>length</th>\n",
       "      <th>ukraine</th>\n",
       "      <th>war</th>\n",
       "      <th>russia</th>\n",
       "      <th>putin</th>\n",
       "      <th>zelensky</th>\n",
       "    </tr>\n",
       "  </thead>\n",
       "  <tbody>\n",
       "    <tr>\n",
       "      <th>22</th>\n",
       "      <td>https://www.aljazeera.com/news/2023/2/24/un-co...</td>\n",
       "      <td>The United Nations General Assembly (UNGA) has...</td>\n",
       "      <td>0.04028</td>\n",
       "      <td>0.31566</td>\n",
       "      <td>4394</td>\n",
       "      <td>10</td>\n",
       "      <td>6</td>\n",
       "      <td>13</td>\n",
       "      <td>2</td>\n",
       "      <td>1</td>\n",
       "    </tr>\n",
       "  </tbody>\n",
       "</table>\n",
       "</div>"
      ],
      "text/plain": [
       "                                                 link  \\\n",
       "22  https://www.aljazeera.com/news/2023/2/24/un-co...   \n",
       "\n",
       "                                              article  polarity  subjectivity  \\\n",
       "22  The United Nations General Assembly (UNGA) has...   0.04028       0.31566   \n",
       "\n",
       "    length  ukraine  war  russia  putin  zelensky  \n",
       "22    4394       10    6      13      2         1  "
      ]
     },
     "execution_count": 9,
     "metadata": {},
     "output_type": "execute_result"
    }
   ],
   "source": [
    "df_aj_all.sample()"
   ]
  },
  {
   "cell_type": "markdown",
   "id": "d1a9d707",
   "metadata": {},
   "source": [
    "# Import BBC file and creating a DF "
   ]
  },
  {
   "cell_type": "code",
   "execution_count": 10,
   "id": "1a03911d",
   "metadata": {},
   "outputs": [],
   "source": [
    "import src.bbc as bbc"
   ]
  },
  {
   "cell_type": "code",
   "execution_count": 11,
   "id": "07e9cac8",
   "metadata": {},
   "outputs": [],
   "source": [
    "lst_bbc_ukr = bbc.get_bbc() # obtaining all the links of ukraine news"
   ]
  },
  {
   "cell_type": "code",
   "execution_count": 12,
   "id": "13e0aa18",
   "metadata": {},
   "outputs": [],
   "source": [
    "dict_article_bbc = bbc.bbc_list(lst_bbc_ukr) # creating a dictionary with links and content"
   ]
  },
  {
   "cell_type": "code",
   "execution_count": 13,
   "id": "901c7c5b",
   "metadata": {},
   "outputs": [],
   "source": [
    "df_descriptive = bbc.descriptives(dict_article_bbc) # counts words 'ukraine','war','russia','putin','zelensky' and sentimental analysis."
   ]
  },
  {
   "cell_type": "code",
   "execution_count": 14,
   "id": "3748873e",
   "metadata": {},
   "outputs": [],
   "source": [
    "df_bbc = bbc.create_df_bbc(dict_article_bbc) # creates a DataFrame with the links and articles, tansposing and creating a new index"
   ]
  },
  {
   "cell_type": "code",
   "execution_count": 15,
   "id": "f12bd6d2",
   "metadata": {},
   "outputs": [
    {
     "data": {
      "text/html": [
       "<div>\n",
       "<style scoped>\n",
       "    .dataframe tbody tr th:only-of-type {\n",
       "        vertical-align: middle;\n",
       "    }\n",
       "\n",
       "    .dataframe tbody tr th {\n",
       "        vertical-align: top;\n",
       "    }\n",
       "\n",
       "    .dataframe thead th {\n",
       "        text-align: right;\n",
       "    }\n",
       "</style>\n",
       "<table border=\"1\" class=\"dataframe\">\n",
       "  <thead>\n",
       "    <tr style=\"text-align: right;\">\n",
       "      <th></th>\n",
       "      <th>link</th>\n",
       "      <th>article</th>\n",
       "      <th>polarity</th>\n",
       "      <th>subjectivity</th>\n",
       "      <th>length</th>\n",
       "      <th>ukraine</th>\n",
       "      <th>war</th>\n",
       "      <th>russia</th>\n",
       "      <th>putin</th>\n",
       "      <th>zelensky</th>\n",
       "    </tr>\n",
       "  </thead>\n",
       "  <tbody>\n",
       "    <tr>\n",
       "      <th>120</th>\n",
       "      <td>https://www.bbc.co.uk/news/world-europe-61263856</td>\n",
       "      <td>The children surviving Ukraine’s war without t...</td>\n",
       "      <td>0.02778</td>\n",
       "      <td>0.18056</td>\n",
       "      <td>3341</td>\n",
       "      <td>11</td>\n",
       "      <td>13</td>\n",
       "      <td>2</td>\n",
       "      <td>0</td>\n",
       "      <td>0</td>\n",
       "    </tr>\n",
       "  </tbody>\n",
       "</table>\n",
       "</div>"
      ],
      "text/plain": [
       "                                                 link  \\\n",
       "120  https://www.bbc.co.uk/news/world-europe-61263856   \n",
       "\n",
       "                                               article  polarity  \\\n",
       "120  The children surviving Ukraine’s war without t...   0.02778   \n",
       "\n",
       "     subjectivity  length  ukraine  war  russia  putin  zelensky  \n",
       "120       0.18056    3341       11   13       2      0         0  "
      ]
     },
     "execution_count": 15,
     "metadata": {},
     "output_type": "execute_result"
    }
   ],
   "source": [
    "df_bbc_together = df_bbc.join(df_descriptive)#join both DF\n",
    "df_bbc_together.to_csv('data/bbc.csv')\n",
    "df_bbc_together.sample()"
   ]
  },
  {
   "cell_type": "markdown",
   "id": "c26c7fc5",
   "metadata": {},
   "source": [
    "# SQL "
   ]
  },
  {
   "cell_type": "markdown",
   "id": "2fb66415",
   "metadata": {},
   "source": [
    "## Getting into MySQL server and saving the data in tables"
   ]
  },
  {
   "cell_type": "code",
   "execution_count": 16,
   "id": "428b2dc3",
   "metadata": {},
   "outputs": [],
   "source": [
    "import src.sql_queries as sql"
   ]
  },
  {
   "cell_type": "code",
   "execution_count": 17,
   "id": "108c5cde",
   "metadata": {},
   "outputs": [
    {
     "name": "stdout",
     "output_type": "stream",
     "text": [
      "MySQL password: ········\n"
     ]
    }
   ],
   "source": [
    "engine= sql.sql_connection() #starting the engine from SQL"
   ]
  },
  {
   "cell_type": "code",
   "execution_count": 19,
   "id": "88be484d",
   "metadata": {},
   "outputs": [],
   "source": [
    "sql.include_into_sql(df_bbc_together,df_aj_all,engine) #to run once just to add the data into SQL"
   ]
  },
  {
   "cell_type": "markdown",
   "id": "bbe9efd4",
   "metadata": {},
   "source": [
    "## Queries"
   ]
  },
  {
   "cell_type": "markdown",
   "id": "cbffc45b",
   "metadata": {},
   "source": [
    "### BBC queries"
   ]
  },
  {
   "cell_type": "code",
   "execution_count": 20,
   "id": "0456e945",
   "metadata": {},
   "outputs": [],
   "source": [
    "df_bbc_sql= pd.read_sql_query(\"\"\"SELECT * FROM bbc \"\"\",con=engine)\n"
   ]
  },
  {
   "cell_type": "code",
   "execution_count": 21,
   "id": "d08da4a4",
   "metadata": {},
   "outputs": [],
   "source": [
    "df_bbc_sql = sql.df_bbc_sql_query(df_bbc_sql,engine)"
   ]
  },
  {
   "cell_type": "code",
   "execution_count": 22,
   "id": "caef4904",
   "metadata": {},
   "outputs": [],
   "source": [
    "df_bbc_sql= sql.bbc_df_clearance(df_bbc_sql)"
   ]
  },
  {
   "cell_type": "code",
   "execution_count": 23,
   "id": "5e447093",
   "metadata": {},
   "outputs": [
    {
     "data": {
      "text/html": [
       "<div>\n",
       "<style scoped>\n",
       "    .dataframe tbody tr th:only-of-type {\n",
       "        vertical-align: middle;\n",
       "    }\n",
       "\n",
       "    .dataframe tbody tr th {\n",
       "        vertical-align: top;\n",
       "    }\n",
       "\n",
       "    .dataframe thead th {\n",
       "        text-align: right;\n",
       "    }\n",
       "</style>\n",
       "<table border=\"1\" class=\"dataframe\">\n",
       "  <thead>\n",
       "    <tr style=\"text-align: right;\">\n",
       "      <th></th>\n",
       "      <th>polarity</th>\n",
       "      <th>subjectivity</th>\n",
       "      <th>(ukraine:length)*100</th>\n",
       "      <th>(war:length)*100</th>\n",
       "      <th>(russia:length)*100</th>\n",
       "      <th>(putin:length)*100</th>\n",
       "      <th>(zelensky:length)*100</th>\n",
       "      <th>link</th>\n",
       "    </tr>\n",
       "    <tr>\n",
       "      <th>source</th>\n",
       "      <th></th>\n",
       "      <th></th>\n",
       "      <th></th>\n",
       "      <th></th>\n",
       "      <th></th>\n",
       "      <th></th>\n",
       "      <th></th>\n",
       "      <th></th>\n",
       "    </tr>\n",
       "  </thead>\n",
       "  <tbody>\n",
       "    <tr>\n",
       "      <th>BBC</th>\n",
       "      <td>0.0725</td>\n",
       "      <td>0.36108</td>\n",
       "      <td>0.2593</td>\n",
       "      <td>0.124</td>\n",
       "      <td>0.1353</td>\n",
       "      <td>0.0</td>\n",
       "      <td>0.0789</td>\n",
       "      <td>https://www.bbc.co.uk/news/world-europe-64341337</td>\n",
       "    </tr>\n",
       "  </tbody>\n",
       "</table>\n",
       "</div>"
      ],
      "text/plain": [
       "        polarity  subjectivity  (ukraine:length)*100  (war:length)*100  \\\n",
       "source                                                                   \n",
       "BBC       0.0725       0.36108                0.2593             0.124   \n",
       "\n",
       "        (russia:length)*100  (putin:length)*100  (zelensky:length)*100  \\\n",
       "source                                                                   \n",
       "BBC                  0.1353                 0.0                 0.0789   \n",
       "\n",
       "                                                    link  \n",
       "source                                                    \n",
       "BBC     https://www.bbc.co.uk/news/world-europe-64341337  "
      ]
     },
     "execution_count": 23,
     "metadata": {},
     "output_type": "execute_result"
    }
   ],
   "source": [
    "df_bbc_sql.sample()"
   ]
  },
  {
   "cell_type": "markdown",
   "id": "bc825411",
   "metadata": {},
   "source": [
    "### Aljazeera queries"
   ]
  },
  {
   "cell_type": "code",
   "execution_count": 24,
   "id": "d8494cf1",
   "metadata": {},
   "outputs": [],
   "source": [
    "df_aj_sql= pd.read_sql_query(\"\"\"SELECT * FROM aljazeera \"\"\",con=engine)"
   ]
  },
  {
   "cell_type": "code",
   "execution_count": 25,
   "id": "ca5b2401",
   "metadata": {},
   "outputs": [],
   "source": [
    "df_aj_sql = sql.df_aj_sql_query(df_aj_sql,engine)"
   ]
  },
  {
   "cell_type": "code",
   "execution_count": 26,
   "id": "6a7837a3",
   "metadata": {},
   "outputs": [],
   "source": [
    "df_aj_sql = sql.aj_df_clearance(df_aj_sql)"
   ]
  },
  {
   "cell_type": "code",
   "execution_count": 27,
   "id": "24993554",
   "metadata": {},
   "outputs": [
    {
     "data": {
      "text/html": [
       "<div>\n",
       "<style scoped>\n",
       "    .dataframe tbody tr th:only-of-type {\n",
       "        vertical-align: middle;\n",
       "    }\n",
       "\n",
       "    .dataframe tbody tr th {\n",
       "        vertical-align: top;\n",
       "    }\n",
       "\n",
       "    .dataframe thead th {\n",
       "        text-align: right;\n",
       "    }\n",
       "</style>\n",
       "<table border=\"1\" class=\"dataframe\">\n",
       "  <thead>\n",
       "    <tr style=\"text-align: right;\">\n",
       "      <th></th>\n",
       "      <th>polarity</th>\n",
       "      <th>subjectivity</th>\n",
       "      <th>(ukraine:length)*100</th>\n",
       "      <th>(war:length)*100</th>\n",
       "      <th>(russia:length)*100</th>\n",
       "      <th>(putin:length)*100</th>\n",
       "      <th>(zelensky:length)*100</th>\n",
       "      <th>link</th>\n",
       "    </tr>\n",
       "    <tr>\n",
       "      <th>source</th>\n",
       "      <th></th>\n",
       "      <th></th>\n",
       "      <th></th>\n",
       "      <th></th>\n",
       "      <th></th>\n",
       "      <th></th>\n",
       "      <th></th>\n",
       "      <th></th>\n",
       "    </tr>\n",
       "  </thead>\n",
       "  <tbody>\n",
       "    <tr>\n",
       "      <th>Aljazeera</th>\n",
       "      <td>0.00658</td>\n",
       "      <td>0.26092</td>\n",
       "      <td>0.2749</td>\n",
       "      <td>0.1718</td>\n",
       "      <td>0.3093</td>\n",
       "      <td>0.0344</td>\n",
       "      <td>0.0</td>\n",
       "      <td>https://www.aljazeera.com/news/2023/2/21/russi...</td>\n",
       "    </tr>\n",
       "  </tbody>\n",
       "</table>\n",
       "</div>"
      ],
      "text/plain": [
       "           polarity  subjectivity  (ukraine:length)*100  (war:length)*100  \\\n",
       "source                                                                      \n",
       "Aljazeera   0.00658       0.26092                0.2749            0.1718   \n",
       "\n",
       "           (russia:length)*100  (putin:length)*100  (zelensky:length)*100  \\\n",
       "source                                                                      \n",
       "Aljazeera               0.3093              0.0344                    0.0   \n",
       "\n",
       "                                                        link  \n",
       "source                                                        \n",
       "Aljazeera  https://www.aljazeera.com/news/2023/2/21/russi...  "
      ]
     },
     "execution_count": 27,
     "metadata": {},
     "output_type": "execute_result"
    }
   ],
   "source": [
    "df_aj_sql.sample()"
   ]
  },
  {
   "cell_type": "code",
   "execution_count": null,
   "id": "0644786b",
   "metadata": {},
   "outputs": [],
   "source": []
  }
 ],
 "metadata": {
  "kernelspec": {
   "display_name": "Python 3 (ipykernel)",
   "language": "python",
   "name": "python3"
  },
  "language_info": {
   "codemirror_mode": {
    "name": "ipython",
    "version": 3
   },
   "file_extension": ".py",
   "mimetype": "text/x-python",
   "name": "python",
   "nbconvert_exporter": "python",
   "pygments_lexer": "ipython3",
   "version": "3.9.15"
  },
  "toc": {
   "base_numbering": 1,
   "nav_menu": {},
   "number_sections": true,
   "sideBar": true,
   "skip_h1_title": false,
   "title_cell": "Table of Contents",
   "title_sidebar": "Contents",
   "toc_cell": false,
   "toc_position": {},
   "toc_section_display": true,
   "toc_window_display": false
  }
 },
 "nbformat": 4,
 "nbformat_minor": 5
}
