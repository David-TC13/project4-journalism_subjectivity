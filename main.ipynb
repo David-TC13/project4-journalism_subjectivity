{
 "cells": [
  {
   "cell_type": "markdown",
   "id": "ce22412f",
   "metadata": {},
   "source": [
    "# Libraries to use"
   ]
  },
  {
   "cell_type": "code",
   "execution_count": 1,
   "id": "56bb0b9e",
   "metadata": {},
   "outputs": [],
   "source": [
    "from selenium import webdriver\n",
    "from selenium.webdriver.common.keys import Keys\n",
    "from selenium.webdriver.common.by import By\n",
    "from selenium.webdriver.support.ui import WebDriverWait\n",
    "from selenium.webdriver.support import expected_conditions as EC\n",
    "from selenium import webdriver\n",
    "from selenium.webdriver.support.ui import Select\n",
    "\n",
    "import requests\n",
    "from bs4 import BeautifulSoup\n",
    "import re as re\n",
    "import time\n",
    "import pandas as pd\n",
    "import numpy as np\n",
    "\n",
    "import pymysql\n",
    "import sqlalchemy as alch\n",
    "from sqlalchemy import create_engine\n",
    "from getpass import getpass\n",
    "\n",
    "import nltk\n",
    "from nltk.sentiment.vader import SentimentIntensityAnalyzer\n",
    "from nltk.corpus import stopwords\n",
    "\n",
    "from wordcloud import WordCloud\n",
    "from langdetect import detect\n",
    "from textblob import TextBlob\n"
   ]
  },
  {
   "cell_type": "markdown",
   "id": "8b8d3a04",
   "metadata": {},
   "source": [
    "# Import Al-Jazeera file and creating the DF"
   ]
  },
  {
   "cell_type": "code",
   "execution_count": 2,
   "id": "742ab225",
   "metadata": {},
   "outputs": [],
   "source": [
    "import src.aljazeera as aj"
   ]
  },
  {
   "cell_type": "code",
   "execution_count": 3,
   "id": "d606cc49",
   "metadata": {},
   "outputs": [],
   "source": [
    "lst_aj = aj.get_aljazeera() # obtaining all the links of ukraine news"
   ]
  },
  {
   "cell_type": "code",
   "execution_count": 4,
   "id": "1d9ab548",
   "metadata": {},
   "outputs": [],
   "source": [
    "dict_aj = aj.create_dict_aj(lst_aj) # creating a dictionary with links and content"
   ]
  },
  {
   "cell_type": "code",
   "execution_count": 5,
   "id": "f537c1ab",
   "metadata": {},
   "outputs": [],
   "source": [
    "df_aj_descr= aj.descriptives(dict_aj) # counts words 'ukraine','war','russia','putin','zelensky' and sentimental analysis."
   ]
  },
  {
   "cell_type": "code",
   "execution_count": 6,
   "id": "b3e27f14",
   "metadata": {},
   "outputs": [],
   "source": [
    "df_aj= aj.create_df_aj(dict_aj) # creates a DataFrame with the links and articles, transposing and creating a new index"
   ]
  },
  {
   "cell_type": "code",
   "execution_count": 7,
   "id": "b4ffdf78",
   "metadata": {},
   "outputs": [],
   "source": [
    "df_aj_all =df_aj.join(df_aj_descr) #join both DF"
   ]
  },
  {
   "cell_type": "code",
   "execution_count": 8,
   "id": "c15de449",
   "metadata": {},
   "outputs": [],
   "source": [
    "df_aj_all.to_csv('data/aljazeera.csv') #save data into a file"
   ]
  },
  {
   "cell_type": "code",
   "execution_count": 9,
   "id": "b31fc993",
   "metadata": {},
   "outputs": [
    {
     "data": {
      "text/html": [
       "<div>\n",
       "<style scoped>\n",
       "    .dataframe tbody tr th:only-of-type {\n",
       "        vertical-align: middle;\n",
       "    }\n",
       "\n",
       "    .dataframe tbody tr th {\n",
       "        vertical-align: top;\n",
       "    }\n",
       "\n",
       "    .dataframe thead th {\n",
       "        text-align: right;\n",
       "    }\n",
       "</style>\n",
       "<table border=\"1\" class=\"dataframe\">\n",
       "  <thead>\n",
       "    <tr style=\"text-align: right;\">\n",
       "      <th></th>\n",
       "      <th>link</th>\n",
       "      <th>article</th>\n",
       "      <th>polarity</th>\n",
       "      <th>subjectivity</th>\n",
       "      <th>length</th>\n",
       "      <th>ukraine</th>\n",
       "      <th>war</th>\n",
       "      <th>russia</th>\n",
       "      <th>putin</th>\n",
       "      <th>zelensky</th>\n",
       "    </tr>\n",
       "  </thead>\n",
       "  <tbody>\n",
       "    <tr>\n",
       "      <th>33</th>\n",
       "      <td>https://www.aljazeera.com/news/2023/2/22/all-o...</td>\n",
       "      <td>The lessons of the Ukraine war are still being...</td>\n",
       "      <td>0.11617</td>\n",
       "      <td>0.34764</td>\n",
       "      <td>9164</td>\n",
       "      <td>25</td>\n",
       "      <td>24</td>\n",
       "      <td>21</td>\n",
       "      <td>3</td>\n",
       "      <td>0</td>\n",
       "    </tr>\n",
       "  </tbody>\n",
       "</table>\n",
       "</div>"
      ],
      "text/plain": [
       "                                                 link  \\\n",
       "33  https://www.aljazeera.com/news/2023/2/22/all-o...   \n",
       "\n",
       "                                              article  polarity  subjectivity  \\\n",
       "33  The lessons of the Ukraine war are still being...   0.11617       0.34764   \n",
       "\n",
       "    length  ukraine  war  russia  putin  zelensky  \n",
       "33    9164       25   24      21      3         0  "
      ]
     },
     "execution_count": 9,
     "metadata": {},
     "output_type": "execute_result"
    }
   ],
   "source": [
    "df_aj_all.sample()"
   ]
  },
  {
   "cell_type": "markdown",
   "id": "d1a9d707",
   "metadata": {},
   "source": [
    "# Import BBC file and creating a DF "
   ]
  },
  {
   "cell_type": "code",
   "execution_count": 10,
   "id": "1a03911d",
   "metadata": {},
   "outputs": [],
   "source": [
    "import src.bbc as bbc"
   ]
  },
  {
   "cell_type": "code",
   "execution_count": 11,
   "id": "07e9cac8",
   "metadata": {},
   "outputs": [],
   "source": [
    "lst_bbc_ukr = bbc.get_bbc() # obtaining all the links of ukraine news"
   ]
  },
  {
   "cell_type": "code",
   "execution_count": 12,
   "id": "13e0aa18",
   "metadata": {},
   "outputs": [],
   "source": [
    "dict_article_bbc = bbc.bbc_list(lst_bbc_ukr) # creating a dictionary with links and content"
   ]
  },
  {
   "cell_type": "code",
   "execution_count": 13,
   "id": "901c7c5b",
   "metadata": {},
   "outputs": [],
   "source": [
    "df_descriptive = bbc.descriptives(dict_article_bbc) # counts words 'ukraine','war','russia','putin','zelensky' and sentimental analysis."
   ]
  },
  {
   "cell_type": "code",
   "execution_count": 14,
   "id": "3748873e",
   "metadata": {},
   "outputs": [],
   "source": [
    "df_bbc = bbc.create_df_bbc(dict_article_bbc) # creates a DataFrame with the links and articles, tansposing and creating a new index"
   ]
  },
  {
   "cell_type": "code",
   "execution_count": 15,
   "id": "f12bd6d2",
   "metadata": {},
   "outputs": [
    {
     "data": {
      "text/html": [
       "<div>\n",
       "<style scoped>\n",
       "    .dataframe tbody tr th:only-of-type {\n",
       "        vertical-align: middle;\n",
       "    }\n",
       "\n",
       "    .dataframe tbody tr th {\n",
       "        vertical-align: top;\n",
       "    }\n",
       "\n",
       "    .dataframe thead th {\n",
       "        text-align: right;\n",
       "    }\n",
       "</style>\n",
       "<table border=\"1\" class=\"dataframe\">\n",
       "  <thead>\n",
       "    <tr style=\"text-align: right;\">\n",
       "      <th></th>\n",
       "      <th>link</th>\n",
       "      <th>article</th>\n",
       "      <th>polarity</th>\n",
       "      <th>subjectivity</th>\n",
       "      <th>length</th>\n",
       "      <th>ukraine</th>\n",
       "      <th>war</th>\n",
       "      <th>russia</th>\n",
       "      <th>putin</th>\n",
       "      <th>zelensky</th>\n",
       "    </tr>\n",
       "  </thead>\n",
       "  <tbody>\n",
       "    <tr>\n",
       "      <th>129</th>\n",
       "      <td>https://www.bbc.co.uk/news/uk-england-london-6...</td>\n",
       "      <td>Ukraine war: The first aid videos helping trai...</td>\n",
       "      <td>0.07438</td>\n",
       "      <td>0.2108</td>\n",
       "      <td>3779</td>\n",
       "      <td>11</td>\n",
       "      <td>10</td>\n",
       "      <td>2</td>\n",
       "      <td>0</td>\n",
       "      <td>0</td>\n",
       "    </tr>\n",
       "  </tbody>\n",
       "</table>\n",
       "</div>"
      ],
      "text/plain": [
       "                                                  link  \\\n",
       "129  https://www.bbc.co.uk/news/uk-england-london-6...   \n",
       "\n",
       "                                               article  polarity  \\\n",
       "129  Ukraine war: The first aid videos helping trai...   0.07438   \n",
       "\n",
       "     subjectivity  length  ukraine  war  russia  putin  zelensky  \n",
       "129        0.2108    3779       11   10       2      0         0  "
      ]
     },
     "execution_count": 15,
     "metadata": {},
     "output_type": "execute_result"
    }
   ],
   "source": [
    "df_bbc_together = df_bbc.join(df_descriptive)#join both DF\n",
    "df_bbc_together.to_csv('data/bbc.csv')\n",
    "df_bbc_together.sample()"
   ]
  },
  {
   "cell_type": "markdown",
   "id": "c26c7fc5",
   "metadata": {},
   "source": [
    "# SQL "
   ]
  },
  {
   "cell_type": "markdown",
   "id": "2fb66415",
   "metadata": {},
   "source": [
    "## Getting into MySQL server and saving the data in tables"
   ]
  },
  {
   "cell_type": "code",
   "execution_count": 16,
   "id": "428b2dc3",
   "metadata": {},
   "outputs": [],
   "source": [
    "import src.sql_queries as sql"
   ]
  },
  {
   "cell_type": "code",
   "execution_count": 17,
   "id": "108c5cde",
   "metadata": {},
   "outputs": [
    {
     "name": "stdout",
     "output_type": "stream",
     "text": [
      "MySQL password: ········\n"
     ]
    }
   ],
   "source": [
    "engine= sql.sql_connection() #starting the engine from SQL"
   ]
  },
  {
   "cell_type": "code",
   "execution_count": null,
   "id": "97b8fc26",
   "metadata": {},
   "outputs": [],
   "source": [
    "sql.include_into_sql(df_bbc_together,df_aj_all,engine) #to run once just to add the data into SQL"
   ]
  },
  {
   "cell_type": "markdown",
   "id": "bbe9efd4",
   "metadata": {},
   "source": [
    "## Queries"
   ]
  },
  {
   "cell_type": "markdown",
   "id": "cbffc45b",
   "metadata": {},
   "source": [
    "### BBC queries"
   ]
  },
  {
   "cell_type": "code",
   "execution_count": 19,
   "id": "0456e945",
   "metadata": {},
   "outputs": [],
   "source": [
    "df_bbc_sql= pd.read_sql_query(\"\"\"SELECT * FROM bbc \"\"\",con=engine)\n"
   ]
  },
  {
   "cell_type": "code",
   "execution_count": 20,
   "id": "d08da4a4",
   "metadata": {},
   "outputs": [],
   "source": [
    "df_bbc_sql = sql.df_bbc_sql_query(df_bbc_sql,engine)"
   ]
  },
  {
   "cell_type": "code",
   "execution_count": 21,
   "id": "caef4904",
   "metadata": {},
   "outputs": [],
   "source": [
    "df_bbc_sql= sql.bbc_df_clearance(df_bbc_sql)"
   ]
  },
  {
   "cell_type": "markdown",
   "id": "bc825411",
   "metadata": {},
   "source": [
    "### Aljazeera queries"
   ]
  },
  {
   "cell_type": "code",
   "execution_count": 22,
   "id": "d8494cf1",
   "metadata": {},
   "outputs": [],
   "source": [
    "df_aj_sql= pd.read_sql_query(\"\"\"SELECT * FROM aljazeera \"\"\",con=engine)"
   ]
  },
  {
   "cell_type": "code",
   "execution_count": 23,
   "id": "ca5b2401",
   "metadata": {},
   "outputs": [],
   "source": [
    "df_aj_sql = sql.df_aj_sql_query(df_aj_sql,engine)"
   ]
  },
  {
   "cell_type": "code",
   "execution_count": 24,
   "id": "6a7837a3",
   "metadata": {},
   "outputs": [],
   "source": [
    "df_aj_sql = sql.aj_df_clearance(df_aj_sql)"
   ]
  },
  {
   "cell_type": "code",
   "execution_count": 25,
   "id": "0644786b",
   "metadata": {},
   "outputs": [],
   "source": [
    "df_together= pd.concat([df_bbc_sql, df_aj_sql], axis=0)"
   ]
  },
  {
   "cell_type": "code",
   "execution_count": 26,
   "id": "bd947336",
   "metadata": {},
   "outputs": [],
   "source": [
    "df_together.to_csv('data/journals.csv')"
   ]
  },
  {
   "cell_type": "code",
   "execution_count": 27,
   "id": "dd33e990",
   "metadata": {},
   "outputs": [
    {
     "data": {
      "text/html": [
       "<div>\n",
       "<style scoped>\n",
       "    .dataframe tbody tr th:only-of-type {\n",
       "        vertical-align: middle;\n",
       "    }\n",
       "\n",
       "    .dataframe tbody tr th {\n",
       "        vertical-align: top;\n",
       "    }\n",
       "\n",
       "    .dataframe thead th {\n",
       "        text-align: right;\n",
       "    }\n",
       "</style>\n",
       "<table border=\"1\" class=\"dataframe\">\n",
       "  <thead>\n",
       "    <tr style=\"text-align: right;\">\n",
       "      <th></th>\n",
       "      <th>polarity</th>\n",
       "      <th>subjectivity</th>\n",
       "      <th>(ukraine:length)*100</th>\n",
       "      <th>(war:length)*100</th>\n",
       "      <th>(russia:length)*100</th>\n",
       "      <th>(putin:length)*100</th>\n",
       "      <th>(zelensky:length)*100</th>\n",
       "      <th>link</th>\n",
       "    </tr>\n",
       "    <tr>\n",
       "      <th>source</th>\n",
       "      <th></th>\n",
       "      <th></th>\n",
       "      <th></th>\n",
       "      <th></th>\n",
       "      <th></th>\n",
       "      <th></th>\n",
       "      <th></th>\n",
       "      <th></th>\n",
       "    </tr>\n",
       "  </thead>\n",
       "  <tbody>\n",
       "    <tr>\n",
       "      <th>BBC</th>\n",
       "      <td>0.07627</td>\n",
       "      <td>0.36252</td>\n",
       "      <td>0.3006</td>\n",
       "      <td>0.2147</td>\n",
       "      <td>0.1718</td>\n",
       "      <td>0.0143</td>\n",
       "      <td>0.0286</td>\n",
       "      <td>https://www.bbc.co.uk/news/world-europe-64779505</td>\n",
       "    </tr>\n",
       "    <tr>\n",
       "      <th>BBC</th>\n",
       "      <td>0.04446</td>\n",
       "      <td>0.44867</td>\n",
       "      <td>0.2651</td>\n",
       "      <td>0.2121</td>\n",
       "      <td>0.1060</td>\n",
       "      <td>0.0177</td>\n",
       "      <td>0.0000</td>\n",
       "      <td>https://www.bbc.co.uk/news/uk-england-suffolk-...</td>\n",
       "    </tr>\n",
       "    <tr>\n",
       "      <th>BBC</th>\n",
       "      <td>0.02919</td>\n",
       "      <td>0.32360</td>\n",
       "      <td>0.2046</td>\n",
       "      <td>0.1508</td>\n",
       "      <td>0.3661</td>\n",
       "      <td>0.0108</td>\n",
       "      <td>0.0215</td>\n",
       "      <td>https://www.bbc.co.uk/news/world-europe-64718740</td>\n",
       "    </tr>\n",
       "    <tr>\n",
       "      <th>BBC</th>\n",
       "      <td>0.08788</td>\n",
       "      <td>0.44437</td>\n",
       "      <td>0.1635</td>\n",
       "      <td>0.1635</td>\n",
       "      <td>0.1144</td>\n",
       "      <td>0.0000</td>\n",
       "      <td>0.0000</td>\n",
       "      <td>https://www.bbc.co.uk/news/uk-england-merseysi...</td>\n",
       "    </tr>\n",
       "    <tr>\n",
       "      <th>BBC</th>\n",
       "      <td>0.06359</td>\n",
       "      <td>0.23566</td>\n",
       "      <td>0.5420</td>\n",
       "      <td>0.3523</td>\n",
       "      <td>0.0813</td>\n",
       "      <td>0.0000</td>\n",
       "      <td>0.0542</td>\n",
       "      <td>https://www.bbc.co.uk/news/world-europe-64779730</td>\n",
       "    </tr>\n",
       "    <tr>\n",
       "      <th>...</th>\n",
       "      <td>...</td>\n",
       "      <td>...</td>\n",
       "      <td>...</td>\n",
       "      <td>...</td>\n",
       "      <td>...</td>\n",
       "      <td>...</td>\n",
       "      <td>...</td>\n",
       "      <td>...</td>\n",
       "    </tr>\n",
       "    <tr>\n",
       "      <th>Aljazeera</th>\n",
       "      <td>0.01371</td>\n",
       "      <td>0.23858</td>\n",
       "      <td>0.1345</td>\n",
       "      <td>0.0384</td>\n",
       "      <td>0.3267</td>\n",
       "      <td>0.0769</td>\n",
       "      <td>0.0000</td>\n",
       "      <td>https://www.aljazeera.com/news/2023/1/21/us-de...</td>\n",
       "    </tr>\n",
       "    <tr>\n",
       "      <th>Aljazeera</th>\n",
       "      <td>0.07068</td>\n",
       "      <td>0.50042</td>\n",
       "      <td>0.4180</td>\n",
       "      <td>0.1194</td>\n",
       "      <td>0.1393</td>\n",
       "      <td>0.0000</td>\n",
       "      <td>0.0398</td>\n",
       "      <td>https://www.aljazeera.com/news/2023/1/20/no-le...</td>\n",
       "    </tr>\n",
       "    <tr>\n",
       "      <th>Aljazeera</th>\n",
       "      <td>0.04567</td>\n",
       "      <td>0.31887</td>\n",
       "      <td>0.1617</td>\n",
       "      <td>0.2611</td>\n",
       "      <td>0.2984</td>\n",
       "      <td>0.0746</td>\n",
       "      <td>0.0124</td>\n",
       "      <td>https://www.aljazeera.com/news/2023/1/20/russi...</td>\n",
       "    </tr>\n",
       "    <tr>\n",
       "      <th>Aljazeera</th>\n",
       "      <td>0.04126</td>\n",
       "      <td>0.38432</td>\n",
       "      <td>0.2854</td>\n",
       "      <td>0.1427</td>\n",
       "      <td>0.2854</td>\n",
       "      <td>0.0357</td>\n",
       "      <td>0.0714</td>\n",
       "      <td>https://www.aljazeera.com/news/2023/1/20/russi...</td>\n",
       "    </tr>\n",
       "    <tr>\n",
       "      <th>Aljazeera</th>\n",
       "      <td>0.03350</td>\n",
       "      <td>0.40967</td>\n",
       "      <td>0.1243</td>\n",
       "      <td>0.1243</td>\n",
       "      <td>0.3730</td>\n",
       "      <td>0.0207</td>\n",
       "      <td>0.0414</td>\n",
       "      <td>https://www.aljazeera.com/news/2023/1/20/mappi...</td>\n",
       "    </tr>\n",
       "  </tbody>\n",
       "</table>\n",
       "<p>404 rows × 8 columns</p>\n",
       "</div>"
      ],
      "text/plain": [
       "           polarity  subjectivity  (ukraine:length)*100  (war:length)*100  \\\n",
       "source                                                                      \n",
       "BBC         0.07627       0.36252                0.3006            0.2147   \n",
       "BBC         0.04446       0.44867                0.2651            0.2121   \n",
       "BBC         0.02919       0.32360                0.2046            0.1508   \n",
       "BBC         0.08788       0.44437                0.1635            0.1635   \n",
       "BBC         0.06359       0.23566                0.5420            0.3523   \n",
       "...             ...           ...                   ...               ...   \n",
       "Aljazeera   0.01371       0.23858                0.1345            0.0384   \n",
       "Aljazeera   0.07068       0.50042                0.4180            0.1194   \n",
       "Aljazeera   0.04567       0.31887                0.1617            0.2611   \n",
       "Aljazeera   0.04126       0.38432                0.2854            0.1427   \n",
       "Aljazeera   0.03350       0.40967                0.1243            0.1243   \n",
       "\n",
       "           (russia:length)*100  (putin:length)*100  (zelensky:length)*100  \\\n",
       "source                                                                      \n",
       "BBC                     0.1718              0.0143                 0.0286   \n",
       "BBC                     0.1060              0.0177                 0.0000   \n",
       "BBC                     0.3661              0.0108                 0.0215   \n",
       "BBC                     0.1144              0.0000                 0.0000   \n",
       "BBC                     0.0813              0.0000                 0.0542   \n",
       "...                        ...                 ...                    ...   \n",
       "Aljazeera               0.3267              0.0769                 0.0000   \n",
       "Aljazeera               0.1393              0.0000                 0.0398   \n",
       "Aljazeera               0.2984              0.0746                 0.0124   \n",
       "Aljazeera               0.2854              0.0357                 0.0714   \n",
       "Aljazeera               0.3730              0.0207                 0.0414   \n",
       "\n",
       "                                                        link  \n",
       "source                                                        \n",
       "BBC         https://www.bbc.co.uk/news/world-europe-64779505  \n",
       "BBC        https://www.bbc.co.uk/news/uk-england-suffolk-...  \n",
       "BBC         https://www.bbc.co.uk/news/world-europe-64718740  \n",
       "BBC        https://www.bbc.co.uk/news/uk-england-merseysi...  \n",
       "BBC         https://www.bbc.co.uk/news/world-europe-64779730  \n",
       "...                                                      ...  \n",
       "Aljazeera  https://www.aljazeera.com/news/2023/1/21/us-de...  \n",
       "Aljazeera  https://www.aljazeera.com/news/2023/1/20/no-le...  \n",
       "Aljazeera  https://www.aljazeera.com/news/2023/1/20/russi...  \n",
       "Aljazeera  https://www.aljazeera.com/news/2023/1/20/russi...  \n",
       "Aljazeera  https://www.aljazeera.com/news/2023/1/20/mappi...  \n",
       "\n",
       "[404 rows x 8 columns]"
      ]
     },
     "execution_count": 27,
     "metadata": {},
     "output_type": "execute_result"
    }
   ],
   "source": [
    "df_together"
   ]
  },
  {
   "cell_type": "code",
   "execution_count": null,
   "id": "a35d6a2b",
   "metadata": {},
   "outputs": [],
   "source": []
  }
 ],
 "metadata": {
  "kernelspec": {
   "display_name": "Python 3 (ipykernel)",
   "language": "python",
   "name": "python3"
  },
  "language_info": {
   "codemirror_mode": {
    "name": "ipython",
    "version": 3
   },
   "file_extension": ".py",
   "mimetype": "text/x-python",
   "name": "python",
   "nbconvert_exporter": "python",
   "pygments_lexer": "ipython3",
   "version": "3.9.15"
  },
  "toc": {
   "base_numbering": 1,
   "nav_menu": {},
   "number_sections": true,
   "sideBar": true,
   "skip_h1_title": false,
   "title_cell": "Table of Contents",
   "title_sidebar": "Contents",
   "toc_cell": false,
   "toc_position": {},
   "toc_section_display": true,
   "toc_window_display": false
  }
 },
 "nbformat": 4,
 "nbformat_minor": 5
}
