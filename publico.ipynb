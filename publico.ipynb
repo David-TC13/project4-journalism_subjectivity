{
 "cells": [
  {
   "cell_type": "code",
   "execution_count": 1,
   "id": "8c85de4b",
   "metadata": {},
   "outputs": [],
   "source": [
    "from selenium import webdriver\n",
    "from selenium.webdriver.common.keys import Keys\n",
    "from selenium.webdriver.common.by import By\n",
    "from selenium.webdriver.support.ui import WebDriverWait\n",
    "from selenium.webdriver.support import expected_conditions as EC\n",
    "from selenium import webdriver\n",
    "from selenium.webdriver.support.ui import Select\n",
    "import requests\n",
    "from bs4 import BeautifulSoup\n",
    "import re\n",
    "import time\n",
    "import pandas as pd\n",
    "import os\n",
    "import numpy as np\n",
    "\n",
    "import pymysql\n",
    "import sqlalchemy as alch\n",
    "from getpass import getpass\n",
    "\n",
    "import googletrans\n",
    "from nltk.sentiment.vader import SentimentIntensityAnalyzer\n",
    "import spacy"
   ]
  },
  {
   "cell_type": "code",
   "execution_count": 31,
   "id": "84feba18",
   "metadata": {},
   "outputs": [],
   "source": [
    "def publico():\n",
    "    driver = webdriver.Chrome()\n",
    "    url= 'https://www.publico.es/'\n",
    "    driver.get(url)\n",
    "    cookies_accept = driver.find_element(By.ID, 'didomi-notice-agree-button').click()\n",
    "    click_in_bar   = driver.find_element(By.CLASS_NAME, 'CabeceraHamburguesaAbrir').click()\n",
    "    time.sleep(2)\n",
    "    search_bar     = driver.find_element(By.ID, \"query\")\n",
    "    search_bar.send_keys('Guerra Ucrania')\n",
    "    search_bar.send_keys(Keys.RETURN)\n",
    "    time.sleep(5)\n",
    "    click_in_news   = driver.find_element(By.CLASS_NAME, 'pb-checkbox').click()\n",
    "    click_in_submit   = driver.find_element(By.CLASS_NAME, 'send').click()\n",
    "    return\n",
    "    "
   ]
  },
  {
   "cell_type": "code",
   "execution_count": 2,
   "id": "68e05f9c",
   "metadata": {},
   "outputs": [],
   "source": [
    "driver = webdriver.Chrome()\n",
    "url= 'https://www.publico.es/'\n",
    "driver.get(url)\n",
    "cookies_accept = driver.find_element(By.ID, 'didomi-notice-agree-button').click()\n",
    "click_in_bar   = driver.find_element(By.CLASS_NAME, 'CabeceraHamburguesaAbrir').click()\n",
    "search_bar     = driver.find_element(By.ID, \"query\")\n",
    "search_bar.send_keys('Guerra Ucrania')\n",
    "search_bar.send_keys(Keys.RETURN)\n",
    "click_in_news   = driver.find_element(By.CLASS_NAME, 'pb-checkbox').click()\n",
    "click_in_submit   = driver.find_element(By.CLASS_NAME, 'send').click()"
   ]
  },
  {
   "cell_type": "code",
   "execution_count": 3,
   "id": "a4b543eb",
   "metadata": {},
   "outputs": [],
   "source": [
    "lnks = driver.find_elements(By.TAG_NAME,\"a\")\n",
    "lst_publico = [lnk.get_attribute('href') for lnk in lnks]\n"
   ]
  },
  {
   "cell_type": "code",
   "execution_count": 9,
   "id": "4ea6bd36",
   "metadata": {},
   "outputs": [
    {
     "data": {
      "text/plain": [
       "str"
      ]
     },
     "execution_count": 9,
     "metadata": {},
     "output_type": "execute_result"
    }
   ],
   "source": [
    "type(lst_publico[0])"
   ]
  },
  {
   "cell_type": "code",
   "execution_count": 4,
   "id": "f780be0e",
   "metadata": {},
   "outputs": [],
   "source": [
    "lst_pbl=list(set([url for url in lst_publico if 'internacional' in str(url)]))"
   ]
  },
  {
   "cell_type": "code",
   "execution_count": 7,
   "id": "de947e14",
   "metadata": {},
   "outputs": [
    {
     "data": {
      "text/plain": [
       "'https://www.publico.es/internacional/ue-aprueba-decimo-paquete-sanciones-rusia-aniversario-inicio-guerra-ucrania.html#analytics-sidebar:hoy-en-portada'"
      ]
     },
     "execution_count": 7,
     "metadata": {},
     "output_type": "execute_result"
    }
   ],
   "source": [
    "lst_pbl[1]"
   ]
  },
  {
   "cell_type": "code",
   "execution_count": 9,
   "id": "1cef1671",
   "metadata": {},
   "outputs": [],
   "source": [
    "url= lst_pbl[1]\n",
    "html = requests.get(url)\n",
    "soup = BeautifulSoup(html.content, \"html.parser\")"
   ]
  },
  {
   "cell_type": "code",
   "execution_count": 25,
   "id": "52fb076e",
   "metadata": {},
   "outputs": [
    {
     "data": {
      "text/plain": [
       "'articleBody\": \"La Unión Europea acordó este viernes \"in extremis\" el décimo paquete de sanciones contra Rusia, coincidiendo con el primer aniversario de la guerra en Ucrania, que incluye un veto a la exportación de tecnologu00eda de uso militar y medidas contra empresas iranu00eds que suministran drones a Moscú.\"Hoy, la UE ha aprobado el décimo paquete de sanciones contra Rusia\", anunció la presidencia sueca del Consejo de la Unión Europea en su cuenta oficial en Twitter. La UE estía \"unida a Ucrania y al pueblo ucraniano\", continuó la presidencia sueca de la UE, que prometió que los Veintisiete seguirían apoyando a Kiev \"todo el tiempo que haga falta\".Las negociaciones entre los pau00edses de la UE se habu00edan atascado en las últimas horas por el volumen de las cuotas de goma sintética que los Veintisiete podrían importar desde Rusia, ya que Polonia queru00eda rebajarlas, aunque finalmente el acuerdo llegó tras mías de 24 horas.El paquete negociado \"incluye, por ejemplo, restricciones mías estrictas a la exportación de tecnologu00eda y productos de doble uso\", medidas restringidas selectivas contra personas y entidades que apoyen la guerra, difundan propaganda o entreguen drones utilizados por Rusia en la guerra y medidas contra la desinformación rusa\", enumeró la presidencia sueca en su tuit.\"En conjunto, los Estados miembros de la UE han impuesto las sanciones mías contundentes y de mayor alcance jamías impuestas para ayudar a Ucrania a ganar la guerra\", concluyó.En concreto, se sancionarían 47 componentes electrónicos que Rusia puede utilizar en sus sistemas armamentu00edsticos, como pueden ser drones, misiles y helicópteros, de tal manera teniendo en cuenta los nueve paquetes anteriores se habría prohibido ya todos los productos tecnológicos encontrados en el campo de batalla, según habu00eda dijo la presidenta de la Comisión, Ursula von der Leyen, al proponerlas.También se sancionaría a siete empresas iranu00edes vinculadas a la Guardia Revolucionaria que fabrican los drones que Teherían estía dando a Moscú para bombardear Ucrania. Las nuevas medidas incluyen a un centenar de individuos y empresas rusas, entre ellos a miembros del Ejército, a los responsables de cometer cru00edmenes en Ucrania y de deportar a Rusia a niu00f1os ucranianos.A todos ellos se les congelarían los bienes y activos que tengan que la UE y tendrían prohibida la entrada al territorio comunitario. El décimo paquete pone de nuevo el foco en la necesidad de evitar que tanto Rusia como los oligarcas eludan las sanciones y se ha acordado estudiar la posibilidad de utilizar los activos del Banco Central ruso congelados en la UE para la reconstrucción de Ucrania.Sin embargo, diversos pau00edses -entre ellos Espau00f1a- albergan dudas legales sobre la posibilidad de usar los fondos para la reconstrucción y piden el míaximo consenso internacional. Las sanciones, no obstante, todavu00eda tienen que aprobarse formalmente antes de que realmente puedan entrar en vigor.Mías allía de este décimo paquete contra Rusia, los pau00edses de la UE empezarían a discutir a principios de la semana que viene una nueva ronda de sanciones contra Bielorrusia por su apoyo al Kremlin en la guerra contra Ucrania.'"
      ]
     },
     "execution_count": 25,
     "metadata": {},
     "output_type": "execute_result"
    }
   ],
   "source": [
    "tags = soup.find_all(\"script\", attrs = {'type':\"application/ld+json\"})\n",
    "article=tags[0].getText()\n",
    "article = article[article.find('articleBody'):]\n",
    "article = article[:article.find('\",\\n    \"mainEntityOfPage\":')]\n",
    "article.replace('\\\\u00f3', 'ó').replace('\\\\u00e9','é').replace('\\\\u00e1','ía').replace ('\\\\u00fa','ú').replace('\\\\','')"
   ]
  },
  {
   "cell_type": "code",
   "execution_count": null,
   "id": "2a11c139",
   "metadata": {},
   "outputs": [],
   "source": []
  }
 ],
 "metadata": {
  "kernelspec": {
   "display_name": "ironhack",
   "language": "python",
   "name": "ironhack"
  },
  "language_info": {
   "codemirror_mode": {
    "name": "ipython",
    "version": 3
   },
   "file_extension": ".py",
   "mimetype": "text/x-python",
   "name": "python",
   "nbconvert_exporter": "python",
   "pygments_lexer": "ipython3",
   "version": "3.9.15"
  },
  "toc": {
   "base_numbering": 1,
   "nav_menu": {},
   "number_sections": true,
   "sideBar": true,
   "skip_h1_title": false,
   "title_cell": "Table of Contents",
   "title_sidebar": "Contents",
   "toc_cell": false,
   "toc_position": {},
   "toc_section_display": true,
   "toc_window_display": false
  }
 },
 "nbformat": 4,
 "nbformat_minor": 5
}
