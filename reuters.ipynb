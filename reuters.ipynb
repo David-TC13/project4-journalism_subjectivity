{
 "cells": [
  {
   "cell_type": "code",
   "execution_count": 1,
   "id": "5f1f729c",
   "metadata": {},
   "outputs": [],
   "source": [
    "from selenium import webdriver\n",
    "from selenium.webdriver.common.keys import Keys\n",
    "from selenium.webdriver.common.by import By\n",
    "from selenium.webdriver.support.ui import WebDriverWait\n",
    "from selenium.webdriver.support import expected_conditions as EC\n",
    "from selenium import webdriver\n",
    "from selenium.webdriver.support.ui import Select\n",
    "\n",
    "import requests\n",
    "from bs4 import BeautifulSoup\n",
    "import re\n",
    "import time\n",
    "import pandas as pd\n",
    "import os\n",
    "import numpy as np\n",
    "\n",
    "import pymysql\n",
    "import sqlalchemy as alch\n",
    "from getpass import getpass\n",
    "\n",
    "import googletrans\n",
    "from nltk.sentiment.vader import SentimentIntensityAnalyzer\n",
    "import spacy"
   ]
  },
  {
   "cell_type": "code",
   "execution_count": 15,
   "id": "3ab7e320",
   "metadata": {},
   "outputs": [],
   "source": [
    "driver = webdriver.Chrome()\n",
    "url    = 'https://ewn.co.za/'\n",
    "driver.get(url)"
   ]
  },
  {
   "cell_type": "code",
   "execution_count": 18,
   "id": "533b1d6e",
   "metadata": {},
   "outputs": [],
   "source": [
    "\n",
    "search_bar = driver.find_element(By.CLASS_NAME, 'tf-search-box')\n",
    "search_bar.send_keys('Ukraine war')\n",
    "search_bar.send_keys(Keys.RETURN)"
   ]
  },
  {
   "cell_type": "code",
   "execution_count": 13,
   "id": "262b44e3",
   "metadata": {},
   "outputs": [
    {
     "ename": "ElementNotInteractableException",
     "evalue": "Message: element not interactable\n  (Session info: chrome=110.0.5481.100)\nStacktrace:\n0   chromedriver                        0x0000000100c63138 chromedriver + 4923704\n1   chromedriver                        0x0000000100bdb9d3 chromedriver + 4368851\n2   chromedriver                        0x00000001008245fd chromedriver + 472573\n3   chromedriver                        0x0000000100860d3c chromedriver + 720188\n4   chromedriver                        0x0000000100860201 chromedriver + 717313\n5   chromedriver                        0x0000000100891fb2 chromedriver + 921522\n6   chromedriver                        0x000000010085a971 chromedriver + 694641\n7   chromedriver                        0x00000001008921de chromedriver + 922078\n8   chromedriver                        0x00000001008acc0f chromedriver + 1031183\n9   chromedriver                        0x0000000100891d23 chromedriver + 920867\n10  chromedriver                        0x0000000100858a4b chromedriver + 686667\n11  chromedriver                        0x000000010085a044 chromedriver + 692292\n12  chromedriver                        0x0000000100c2e8fe chromedriver + 4708606\n13  chromedriver                        0x0000000100c33e22 chromedriver + 4730402\n14  chromedriver                        0x0000000100c3c6bf chromedriver + 4765375\n15  chromedriver                        0x0000000100c34e80 chromedriver + 4734592\n16  chromedriver                        0x0000000100c05975 chromedriver + 4540789\n17  chromedriver                        0x0000000100c56e78 chromedriver + 4873848\n18  chromedriver                        0x0000000100c56ff5 chromedriver + 4874229\n19  chromedriver                        0x0000000100c6b6de chromedriver + 4957918\n20  libsystem_pthread.dylib             0x00007ff806ff5259 _pthread_start + 125\n21  libsystem_pthread.dylib             0x00007ff806ff0c7b thread_start + 15\n",
     "output_type": "error",
     "traceback": [
      "\u001b[0;31m---------------------------------------------------------------------------\u001b[0m",
      "\u001b[0;31mElementNotInteractableException\u001b[0m           Traceback (most recent call last)",
      "Input \u001b[0;32mIn [13]\u001b[0m, in \u001b[0;36m<cell line: 1>\u001b[0;34m()\u001b[0m\n\u001b[0;32m----> 1\u001b[0m \u001b[43msearch_bar\u001b[49m\u001b[38;5;241;43m.\u001b[39;49m\u001b[43msend_keys\u001b[49m\u001b[43m(\u001b[49m\u001b[38;5;124;43m'\u001b[39;49m\u001b[38;5;124;43mUkraine war\u001b[39;49m\u001b[38;5;124;43m'\u001b[39;49m\u001b[43m)\u001b[49m\n\u001b[1;32m      2\u001b[0m search_bar\u001b[38;5;241m.\u001b[39msend_keys(Keys\u001b[38;5;241m.\u001b[39mRETURN)\n",
      "File \u001b[0;32m~/miniconda3/envs/ironhack/lib/python3.9/site-packages/selenium/webdriver/remote/webelement.py:230\u001b[0m, in \u001b[0;36mWebElement.send_keys\u001b[0;34m(self, *value)\u001b[0m\n\u001b[1;32m    227\u001b[0m             remote_files\u001b[38;5;241m.\u001b[39mappend(\u001b[38;5;28mself\u001b[39m\u001b[38;5;241m.\u001b[39m_upload(file))\n\u001b[1;32m    228\u001b[0m         value \u001b[38;5;241m=\u001b[39m \u001b[38;5;124m\"\u001b[39m\u001b[38;5;130;01m\\n\u001b[39;00m\u001b[38;5;124m\"\u001b[39m\u001b[38;5;241m.\u001b[39mjoin(remote_files)\n\u001b[0;32m--> 230\u001b[0m \u001b[38;5;28;43mself\u001b[39;49m\u001b[38;5;241;43m.\u001b[39;49m\u001b[43m_execute\u001b[49m\u001b[43m(\u001b[49m\n\u001b[1;32m    231\u001b[0m \u001b[43m    \u001b[49m\u001b[43mCommand\u001b[49m\u001b[38;5;241;43m.\u001b[39;49m\u001b[43mSEND_KEYS_TO_ELEMENT\u001b[49m\u001b[43m,\u001b[49m\u001b[43m \u001b[49m\u001b[43m{\u001b[49m\u001b[38;5;124;43m\"\u001b[39;49m\u001b[38;5;124;43mtext\u001b[39;49m\u001b[38;5;124;43m\"\u001b[39;49m\u001b[43m:\u001b[49m\u001b[43m \u001b[49m\u001b[38;5;124;43m\"\u001b[39;49m\u001b[38;5;124;43m\"\u001b[39;49m\u001b[38;5;241;43m.\u001b[39;49m\u001b[43mjoin\u001b[49m\u001b[43m(\u001b[49m\u001b[43mkeys_to_typing\u001b[49m\u001b[43m(\u001b[49m\u001b[43mvalue\u001b[49m\u001b[43m)\u001b[49m\u001b[43m)\u001b[49m\u001b[43m,\u001b[49m\u001b[43m \u001b[49m\u001b[38;5;124;43m\"\u001b[39;49m\u001b[38;5;124;43mvalue\u001b[39;49m\u001b[38;5;124;43m\"\u001b[39;49m\u001b[43m:\u001b[49m\u001b[43m \u001b[49m\u001b[43mkeys_to_typing\u001b[49m\u001b[43m(\u001b[49m\u001b[43mvalue\u001b[49m\u001b[43m)\u001b[49m\u001b[43m}\u001b[49m\n\u001b[1;32m    232\u001b[0m \u001b[43m\u001b[49m\u001b[43m)\u001b[49m\n",
      "File \u001b[0;32m~/miniconda3/envs/ironhack/lib/python3.9/site-packages/selenium/webdriver/remote/webelement.py:403\u001b[0m, in \u001b[0;36mWebElement._execute\u001b[0;34m(self, command, params)\u001b[0m\n\u001b[1;32m    401\u001b[0m     params \u001b[38;5;241m=\u001b[39m {}\n\u001b[1;32m    402\u001b[0m params[\u001b[38;5;124m\"\u001b[39m\u001b[38;5;124mid\u001b[39m\u001b[38;5;124m\"\u001b[39m] \u001b[38;5;241m=\u001b[39m \u001b[38;5;28mself\u001b[39m\u001b[38;5;241m.\u001b[39m_id\n\u001b[0;32m--> 403\u001b[0m \u001b[38;5;28;01mreturn\u001b[39;00m \u001b[38;5;28;43mself\u001b[39;49m\u001b[38;5;241;43m.\u001b[39;49m\u001b[43m_parent\u001b[49m\u001b[38;5;241;43m.\u001b[39;49m\u001b[43mexecute\u001b[49m\u001b[43m(\u001b[49m\u001b[43mcommand\u001b[49m\u001b[43m,\u001b[49m\u001b[43m \u001b[49m\u001b[43mparams\u001b[49m\u001b[43m)\u001b[49m\n",
      "File \u001b[0;32m~/miniconda3/envs/ironhack/lib/python3.9/site-packages/selenium/webdriver/remote/webdriver.py:440\u001b[0m, in \u001b[0;36mWebDriver.execute\u001b[0;34m(self, driver_command, params)\u001b[0m\n\u001b[1;32m    438\u001b[0m response \u001b[38;5;241m=\u001b[39m \u001b[38;5;28mself\u001b[39m\u001b[38;5;241m.\u001b[39mcommand_executor\u001b[38;5;241m.\u001b[39mexecute(driver_command, params)\n\u001b[1;32m    439\u001b[0m \u001b[38;5;28;01mif\u001b[39;00m response:\n\u001b[0;32m--> 440\u001b[0m     \u001b[38;5;28;43mself\u001b[39;49m\u001b[38;5;241;43m.\u001b[39;49m\u001b[43merror_handler\u001b[49m\u001b[38;5;241;43m.\u001b[39;49m\u001b[43mcheck_response\u001b[49m\u001b[43m(\u001b[49m\u001b[43mresponse\u001b[49m\u001b[43m)\u001b[49m\n\u001b[1;32m    441\u001b[0m     response[\u001b[38;5;124m\"\u001b[39m\u001b[38;5;124mvalue\u001b[39m\u001b[38;5;124m\"\u001b[39m] \u001b[38;5;241m=\u001b[39m \u001b[38;5;28mself\u001b[39m\u001b[38;5;241m.\u001b[39m_unwrap_value(response\u001b[38;5;241m.\u001b[39mget(\u001b[38;5;124m\"\u001b[39m\u001b[38;5;124mvalue\u001b[39m\u001b[38;5;124m\"\u001b[39m, \u001b[38;5;28;01mNone\u001b[39;00m))\n\u001b[1;32m    442\u001b[0m     \u001b[38;5;28;01mreturn\u001b[39;00m response\n",
      "File \u001b[0;32m~/miniconda3/envs/ironhack/lib/python3.9/site-packages/selenium/webdriver/remote/errorhandler.py:245\u001b[0m, in \u001b[0;36mErrorHandler.check_response\u001b[0;34m(self, response)\u001b[0m\n\u001b[1;32m    243\u001b[0m         alert_text \u001b[38;5;241m=\u001b[39m value[\u001b[38;5;124m\"\u001b[39m\u001b[38;5;124malert\u001b[39m\u001b[38;5;124m\"\u001b[39m]\u001b[38;5;241m.\u001b[39mget(\u001b[38;5;124m\"\u001b[39m\u001b[38;5;124mtext\u001b[39m\u001b[38;5;124m\"\u001b[39m)\n\u001b[1;32m    244\u001b[0m     \u001b[38;5;28;01mraise\u001b[39;00m exception_class(message, screen, stacktrace, alert_text)  \u001b[38;5;66;03m# type: ignore[call-arg]  # mypy is not smart enough here\u001b[39;00m\n\u001b[0;32m--> 245\u001b[0m \u001b[38;5;28;01mraise\u001b[39;00m exception_class(message, screen, stacktrace)\n",
      "\u001b[0;31mElementNotInteractableException\u001b[0m: Message: element not interactable\n  (Session info: chrome=110.0.5481.100)\nStacktrace:\n0   chromedriver                        0x0000000100c63138 chromedriver + 4923704\n1   chromedriver                        0x0000000100bdb9d3 chromedriver + 4368851\n2   chromedriver                        0x00000001008245fd chromedriver + 472573\n3   chromedriver                        0x0000000100860d3c chromedriver + 720188\n4   chromedriver                        0x0000000100860201 chromedriver + 717313\n5   chromedriver                        0x0000000100891fb2 chromedriver + 921522\n6   chromedriver                        0x000000010085a971 chromedriver + 694641\n7   chromedriver                        0x00000001008921de chromedriver + 922078\n8   chromedriver                        0x00000001008acc0f chromedriver + 1031183\n9   chromedriver                        0x0000000100891d23 chromedriver + 920867\n10  chromedriver                        0x0000000100858a4b chromedriver + 686667\n11  chromedriver                        0x000000010085a044 chromedriver + 692292\n12  chromedriver                        0x0000000100c2e8fe chromedriver + 4708606\n13  chromedriver                        0x0000000100c33e22 chromedriver + 4730402\n14  chromedriver                        0x0000000100c3c6bf chromedriver + 4765375\n15  chromedriver                        0x0000000100c34e80 chromedriver + 4734592\n16  chromedriver                        0x0000000100c05975 chromedriver + 4540789\n17  chromedriver                        0x0000000100c56e78 chromedriver + 4873848\n18  chromedriver                        0x0000000100c56ff5 chromedriver + 4874229\n19  chromedriver                        0x0000000100c6b6de chromedriver + 4957918\n20  libsystem_pthread.dylib             0x00007ff806ff5259 _pthread_start + 125\n21  libsystem_pthread.dylib             0x00007ff806ff0c7b thread_start + 15\n"
     ]
    }
   ],
   "source": [
    "search_bar.send_keys('Ukraine war')\n",
    "search_bar.send_keys(Keys.RETURN)"
   ]
  },
  {
   "cell_type": "code",
   "execution_count": 2,
   "id": "b7173014",
   "metadata": {},
   "outputs": [],
   "source": [
    "def get_gk():\n",
    "    driver = webdriver.Chrome()\n",
    "    url    = 'https://www.greaterkashmir.com/'\n",
    "    driver.get(url)\n",
    "    time.sleep(15)\n",
    "    search_icon  = driver.find_element(By.ID, 'header-search').click()\n",
    "    search_bar      = driver.find_element(By.ID, \"searchForm\")\n",
    "    time.sleep(5)\n",
    "    search_bar.send_keys('Ukraine war')\n",
    "    search_bar.send_keys(Keys.RETURN)\n",
    "    time.sleep(3)\n",
    "    lnks=driver.find_elements(By.TAG_NAME,\"a\")\n",
    "    lst_gk=[lnk.get_attribute('href') for lnk in lnks]\n",
    "    lst_gk_ukr=[url for url in lst_cnn if 'https://www.greaterkashmir.com/world/' in str(url)]\n",
    "    lst_gk_ukr = list(set(lst_gk_ukr))\n",
    "    return  lst_gk_ukr"
   ]
  },
  {
   "cell_type": "code",
   "execution_count": 3,
   "id": "11650e7a",
   "metadata": {},
   "outputs": [
    {
     "ename": "ElementNotInteractableException",
     "evalue": "Message: element not interactable\n  (Session info: chrome=110.0.5481.100)\nStacktrace:\n0   chromedriver                        0x00000001033ad138 chromedriver + 4923704\n1   chromedriver                        0x00000001033259d3 chromedriver + 4368851\n2   chromedriver                        0x0000000102f6e5fd chromedriver + 472573\n3   chromedriver                        0x0000000102faad3c chromedriver + 720188\n4   chromedriver                        0x0000000102faa201 chromedriver + 717313\n5   chromedriver                        0x0000000102fdbfb2 chromedriver + 921522\n6   chromedriver                        0x0000000102fa4971 chromedriver + 694641\n7   chromedriver                        0x0000000102fdc1de chromedriver + 922078\n8   chromedriver                        0x0000000102ff6c0f chromedriver + 1031183\n9   chromedriver                        0x0000000102fdbd23 chromedriver + 920867\n10  chromedriver                        0x0000000102fa2a4b chromedriver + 686667\n11  chromedriver                        0x0000000102fa4044 chromedriver + 692292\n12  chromedriver                        0x00000001033788fe chromedriver + 4708606\n13  chromedriver                        0x000000010337de22 chromedriver + 4730402\n14  chromedriver                        0x00000001033866bf chromedriver + 4765375\n15  chromedriver                        0x000000010337ee80 chromedriver + 4734592\n16  chromedriver                        0x000000010334f975 chromedriver + 4540789\n17  chromedriver                        0x00000001033a0e78 chromedriver + 4873848\n18  chromedriver                        0x00000001033a0ff5 chromedriver + 4874229\n19  chromedriver                        0x00000001033b56de chromedriver + 4957918\n20  libsystem_pthread.dylib             0x00007ff806ff5259 _pthread_start + 125\n21  libsystem_pthread.dylib             0x00007ff806ff0c7b thread_start + 15\n",
     "output_type": "error",
     "traceback": [
      "\u001b[0;31m---------------------------------------------------------------------------\u001b[0m",
      "\u001b[0;31mElementNotInteractableException\u001b[0m           Traceback (most recent call last)",
      "Input \u001b[0;32mIn [3]\u001b[0m, in \u001b[0;36m<cell line: 1>\u001b[0;34m()\u001b[0m\n\u001b[0;32m----> 1\u001b[0m lst_gk_ukr\u001b[38;5;241m=\u001b[39m \u001b[43mget_gk\u001b[49m\u001b[43m(\u001b[49m\u001b[43m)\u001b[49m\n",
      "Input \u001b[0;32mIn [2]\u001b[0m, in \u001b[0;36mget_gk\u001b[0;34m()\u001b[0m\n\u001b[1;32m      6\u001b[0m search_icon  \u001b[38;5;241m=\u001b[39m driver\u001b[38;5;241m.\u001b[39mfind_element(By\u001b[38;5;241m.\u001b[39mID, \u001b[38;5;124m'\u001b[39m\u001b[38;5;124mheader-search\u001b[39m\u001b[38;5;124m'\u001b[39m)\u001b[38;5;241m.\u001b[39mclick()\n\u001b[1;32m      7\u001b[0m search_bar      \u001b[38;5;241m=\u001b[39m driver\u001b[38;5;241m.\u001b[39mfind_element(By\u001b[38;5;241m.\u001b[39mID, \u001b[38;5;124m\"\u001b[39m\u001b[38;5;124msearchForm\u001b[39m\u001b[38;5;124m\"\u001b[39m)\n\u001b[0;32m----> 8\u001b[0m \u001b[43msearch_bar\u001b[49m\u001b[38;5;241;43m.\u001b[39;49m\u001b[43msend_keys\u001b[49m\u001b[43m(\u001b[49m\u001b[38;5;124;43m'\u001b[39;49m\u001b[38;5;124;43mUkraine war\u001b[39;49m\u001b[38;5;124;43m'\u001b[39;49m\u001b[43m)\u001b[49m\n\u001b[1;32m      9\u001b[0m search_bar\u001b[38;5;241m.\u001b[39msend_keys(Keys\u001b[38;5;241m.\u001b[39mRETURN)\n\u001b[1;32m     10\u001b[0m time\u001b[38;5;241m.\u001b[39msleep(\u001b[38;5;241m3\u001b[39m)\n",
      "File \u001b[0;32m~/miniconda3/envs/ironhack/lib/python3.9/site-packages/selenium/webdriver/remote/webelement.py:230\u001b[0m, in \u001b[0;36mWebElement.send_keys\u001b[0;34m(self, *value)\u001b[0m\n\u001b[1;32m    227\u001b[0m             remote_files\u001b[38;5;241m.\u001b[39mappend(\u001b[38;5;28mself\u001b[39m\u001b[38;5;241m.\u001b[39m_upload(file))\n\u001b[1;32m    228\u001b[0m         value \u001b[38;5;241m=\u001b[39m \u001b[38;5;124m\"\u001b[39m\u001b[38;5;130;01m\\n\u001b[39;00m\u001b[38;5;124m\"\u001b[39m\u001b[38;5;241m.\u001b[39mjoin(remote_files)\n\u001b[0;32m--> 230\u001b[0m \u001b[38;5;28;43mself\u001b[39;49m\u001b[38;5;241;43m.\u001b[39;49m\u001b[43m_execute\u001b[49m\u001b[43m(\u001b[49m\n\u001b[1;32m    231\u001b[0m \u001b[43m    \u001b[49m\u001b[43mCommand\u001b[49m\u001b[38;5;241;43m.\u001b[39;49m\u001b[43mSEND_KEYS_TO_ELEMENT\u001b[49m\u001b[43m,\u001b[49m\u001b[43m \u001b[49m\u001b[43m{\u001b[49m\u001b[38;5;124;43m\"\u001b[39;49m\u001b[38;5;124;43mtext\u001b[39;49m\u001b[38;5;124;43m\"\u001b[39;49m\u001b[43m:\u001b[49m\u001b[43m \u001b[49m\u001b[38;5;124;43m\"\u001b[39;49m\u001b[38;5;124;43m\"\u001b[39;49m\u001b[38;5;241;43m.\u001b[39;49m\u001b[43mjoin\u001b[49m\u001b[43m(\u001b[49m\u001b[43mkeys_to_typing\u001b[49m\u001b[43m(\u001b[49m\u001b[43mvalue\u001b[49m\u001b[43m)\u001b[49m\u001b[43m)\u001b[49m\u001b[43m,\u001b[49m\u001b[43m \u001b[49m\u001b[38;5;124;43m\"\u001b[39;49m\u001b[38;5;124;43mvalue\u001b[39;49m\u001b[38;5;124;43m\"\u001b[39;49m\u001b[43m:\u001b[49m\u001b[43m \u001b[49m\u001b[43mkeys_to_typing\u001b[49m\u001b[43m(\u001b[49m\u001b[43mvalue\u001b[49m\u001b[43m)\u001b[49m\u001b[43m}\u001b[49m\n\u001b[1;32m    232\u001b[0m \u001b[43m\u001b[49m\u001b[43m)\u001b[49m\n",
      "File \u001b[0;32m~/miniconda3/envs/ironhack/lib/python3.9/site-packages/selenium/webdriver/remote/webelement.py:403\u001b[0m, in \u001b[0;36mWebElement._execute\u001b[0;34m(self, command, params)\u001b[0m\n\u001b[1;32m    401\u001b[0m     params \u001b[38;5;241m=\u001b[39m {}\n\u001b[1;32m    402\u001b[0m params[\u001b[38;5;124m\"\u001b[39m\u001b[38;5;124mid\u001b[39m\u001b[38;5;124m\"\u001b[39m] \u001b[38;5;241m=\u001b[39m \u001b[38;5;28mself\u001b[39m\u001b[38;5;241m.\u001b[39m_id\n\u001b[0;32m--> 403\u001b[0m \u001b[38;5;28;01mreturn\u001b[39;00m \u001b[38;5;28;43mself\u001b[39;49m\u001b[38;5;241;43m.\u001b[39;49m\u001b[43m_parent\u001b[49m\u001b[38;5;241;43m.\u001b[39;49m\u001b[43mexecute\u001b[49m\u001b[43m(\u001b[49m\u001b[43mcommand\u001b[49m\u001b[43m,\u001b[49m\u001b[43m \u001b[49m\u001b[43mparams\u001b[49m\u001b[43m)\u001b[49m\n",
      "File \u001b[0;32m~/miniconda3/envs/ironhack/lib/python3.9/site-packages/selenium/webdriver/remote/webdriver.py:440\u001b[0m, in \u001b[0;36mWebDriver.execute\u001b[0;34m(self, driver_command, params)\u001b[0m\n\u001b[1;32m    438\u001b[0m response \u001b[38;5;241m=\u001b[39m \u001b[38;5;28mself\u001b[39m\u001b[38;5;241m.\u001b[39mcommand_executor\u001b[38;5;241m.\u001b[39mexecute(driver_command, params)\n\u001b[1;32m    439\u001b[0m \u001b[38;5;28;01mif\u001b[39;00m response:\n\u001b[0;32m--> 440\u001b[0m     \u001b[38;5;28;43mself\u001b[39;49m\u001b[38;5;241;43m.\u001b[39;49m\u001b[43merror_handler\u001b[49m\u001b[38;5;241;43m.\u001b[39;49m\u001b[43mcheck_response\u001b[49m\u001b[43m(\u001b[49m\u001b[43mresponse\u001b[49m\u001b[43m)\u001b[49m\n\u001b[1;32m    441\u001b[0m     response[\u001b[38;5;124m\"\u001b[39m\u001b[38;5;124mvalue\u001b[39m\u001b[38;5;124m\"\u001b[39m] \u001b[38;5;241m=\u001b[39m \u001b[38;5;28mself\u001b[39m\u001b[38;5;241m.\u001b[39m_unwrap_value(response\u001b[38;5;241m.\u001b[39mget(\u001b[38;5;124m\"\u001b[39m\u001b[38;5;124mvalue\u001b[39m\u001b[38;5;124m\"\u001b[39m, \u001b[38;5;28;01mNone\u001b[39;00m))\n\u001b[1;32m    442\u001b[0m     \u001b[38;5;28;01mreturn\u001b[39;00m response\n",
      "File \u001b[0;32m~/miniconda3/envs/ironhack/lib/python3.9/site-packages/selenium/webdriver/remote/errorhandler.py:245\u001b[0m, in \u001b[0;36mErrorHandler.check_response\u001b[0;34m(self, response)\u001b[0m\n\u001b[1;32m    243\u001b[0m         alert_text \u001b[38;5;241m=\u001b[39m value[\u001b[38;5;124m\"\u001b[39m\u001b[38;5;124malert\u001b[39m\u001b[38;5;124m\"\u001b[39m]\u001b[38;5;241m.\u001b[39mget(\u001b[38;5;124m\"\u001b[39m\u001b[38;5;124mtext\u001b[39m\u001b[38;5;124m\"\u001b[39m)\n\u001b[1;32m    244\u001b[0m     \u001b[38;5;28;01mraise\u001b[39;00m exception_class(message, screen, stacktrace, alert_text)  \u001b[38;5;66;03m# type: ignore[call-arg]  # mypy is not smart enough here\u001b[39;00m\n\u001b[0;32m--> 245\u001b[0m \u001b[38;5;28;01mraise\u001b[39;00m exception_class(message, screen, stacktrace)\n",
      "\u001b[0;31mElementNotInteractableException\u001b[0m: Message: element not interactable\n  (Session info: chrome=110.0.5481.100)\nStacktrace:\n0   chromedriver                        0x00000001033ad138 chromedriver + 4923704\n1   chromedriver                        0x00000001033259d3 chromedriver + 4368851\n2   chromedriver                        0x0000000102f6e5fd chromedriver + 472573\n3   chromedriver                        0x0000000102faad3c chromedriver + 720188\n4   chromedriver                        0x0000000102faa201 chromedriver + 717313\n5   chromedriver                        0x0000000102fdbfb2 chromedriver + 921522\n6   chromedriver                        0x0000000102fa4971 chromedriver + 694641\n7   chromedriver                        0x0000000102fdc1de chromedriver + 922078\n8   chromedriver                        0x0000000102ff6c0f chromedriver + 1031183\n9   chromedriver                        0x0000000102fdbd23 chromedriver + 920867\n10  chromedriver                        0x0000000102fa2a4b chromedriver + 686667\n11  chromedriver                        0x0000000102fa4044 chromedriver + 692292\n12  chromedriver                        0x00000001033788fe chromedriver + 4708606\n13  chromedriver                        0x000000010337de22 chromedriver + 4730402\n14  chromedriver                        0x00000001033866bf chromedriver + 4765375\n15  chromedriver                        0x000000010337ee80 chromedriver + 4734592\n16  chromedriver                        0x000000010334f975 chromedriver + 4540789\n17  chromedriver                        0x00000001033a0e78 chromedriver + 4873848\n18  chromedriver                        0x00000001033a0ff5 chromedriver + 4874229\n19  chromedriver                        0x00000001033b56de chromedriver + 4957918\n20  libsystem_pthread.dylib             0x00007ff806ff5259 _pthread_start + 125\n21  libsystem_pthread.dylib             0x00007ff806ff0c7b thread_start + 15\n"
     ]
    }
   ],
   "source": [
    "lst_gk_ukr= get_gk()"
   ]
  },
  {
   "cell_type": "code",
   "execution_count": null,
   "id": "efd21cef",
   "metadata": {},
   "outputs": [],
   "source": [
    "lst_gk_ukr"
   ]
  },
  {
   "cell_type": "code",
   "execution_count": 58,
   "id": "c2e7150e",
   "metadata": {},
   "outputs": [],
   "source": [
    "for url in lst_cnn_ukr:\n",
    "    html = requests.get(url)\n",
    "    soup = BeautifulSoup(html.content, \"html.parser\")\n",
    "\n",
    "    \n",
    "    \n",
    "\n",
    "#x = txt.count(\"apple\")\n",
    "#DOCTYPE htm"
   ]
  },
  {
   "cell_type": "code",
   "execution_count": 37,
   "id": "9efd1416",
   "metadata": {},
   "outputs": [],
   "source": [
    "for url in lst_cnn_ukr:\n",
    "    lst_art_cnn=[]\n",
    "    html = requests.get(url)\n",
    "    soup = BeautifulSoup(html.content, \"html.parser\")\n",
    "    tags = soup.find_all('script', attrs= {'type':\"application/ld+json\"})\n",
    "    article = tags[0].getText()\n",
    "    article = article[article.find(',\"articleBody\":'):]\n",
    "    article = article[:article.find(',\"author\":')]\n",
    "    article = article.replace(',\"articleBody\":','')\n",
    "    lst_art_cnn.append(article)\n"
   ]
  },
  {
   "cell_type": "code",
   "execution_count": 40,
   "id": "d2fbad8b",
   "metadata": {},
   "outputs": [
    {
     "ename": "IndexError",
     "evalue": "list index out of range",
     "output_type": "error",
     "traceback": [
      "\u001b[0;31m---------------------------------------------------------------------------\u001b[0m",
      "\u001b[0;31mIndexError\u001b[0m                                Traceback (most recent call last)",
      "Input \u001b[0;32mIn [40]\u001b[0m, in \u001b[0;36m<cell line: 1>\u001b[0;34m()\u001b[0m\n\u001b[0;32m----> 1\u001b[0m \u001b[43mlst_art_cnn\u001b[49m\u001b[43m[\u001b[49m\u001b[38;5;241;43m1\u001b[39;49m\u001b[43m]\u001b[49m\n",
      "\u001b[0;31mIndexError\u001b[0m: list index out of range"
     ]
    }
   ],
   "source": []
  },
  {
   "cell_type": "code",
   "execution_count": 42,
   "id": "41c1ca10",
   "metadata": {},
   "outputs": [],
   "source": [
    "for url in lst_cnn_ukr:\n",
    "    dict_cnn={}\n",
    "    html = requests.get(url)\n",
    "    soup = BeautifulSoup(html.content, \"html.parser\")\n",
    "    tags = soup.find_all('script')\n",
    "    article=tags[2].getText()"
   ]
  },
  {
   "cell_type": "code",
   "execution_count": 45,
   "id": "bb975c9e",
   "metadata": {},
   "outputs": [
    {
     "data": {
      "text/plain": [
       "{'https://www.cnn.com/2023/02/25/politics/zelensky-republicans-weapons/index.html': '\"As some outspoken Republican lawmakers threaten to block future aid to Ukraine, a small group of House GOP members that traveled to the country this week vowed to consider a list of key weapons and other crucial necessities during a meeting with Ukrainian President Volodymyr Zelensky, sources familiar with the meeting told CNN.   The meeting, set against the backdrop of the one-year anniversary of Russia’s invasion, is a stark example of how far apart members within the Republican Party are on how to handle US involvement in the war moving forward. The divide has only deepened since the GOP took over the House majority in January, even as House Speaker Kevin McCarthy has carefully attempted to remain neutral on the issue.   It also comes at a time when President Joe Biden is facing increasing pressure to supply the Ukrainians with more advanced weaponry that some of his own military commanders have privately acknowledged could help Ukraine win the war.  Zelensky, who met with House Foreign Affairs committee chairman Michael McCaul and four other House GOP members, told the group he planned to send them a list of weapons, which includes F-16 fighter jets, that he believes are necessary to speed up the end of the war with Russia.  A top US military commander reiterated to a group of Republican lawmakers how imperative F-16 fighter jets and longer-range missiles would be to serve the Ukrainian cause, one of the sources said. “There is a broad, bipartisan support between the United States and our NATO and European allies to support Ukraine against Russian aggression,” McCaul said during his congressional delegation to Ukraine. “[W]e had a very productive meeting with President Zelensky. We talked primarily about what his needs are when it comes to winning this war. And he is providing this delegation with the list of the weapons the Ukraine needs to win.”  “He said we’ll stay here as long as it takes. And while that’s true, I hope it doesn’t take so long to win this conflict. And to do so, we have strong bipartisan support to give Ukraine everything that it needs to win,” McCaul added.   That position, however, may become increasingly untenable as upcoming spending fights, congressional hearings and the 2024 presidential race firmly place the question of whether to add to the $113 billion the US has already sent Ukraine front and center – and as some Republicans push back on the prospect of additional aid.  Several GOP lawmakers are already gearing up for such a battle, and privately gaming out how to fend off opposition within their own party.  Inside the internal jockeying   Behind the scenes, a plan is starting to take shape among the Republicans who view Ukraine’s ultimate victory as the only path forward: ramp up pressure on Biden to shake off his reluctance and send weapons like F-16 fighter jets and longer range missiles while tamping down their party’s opposition by using the majority in the House to spotlight Russia’s war atrocities.   Some GOP lawmakers are already pushing back on claims from fellow Republicans that US funding and weapons aren’t going where they are intended to go – even as Republicans on the House Oversight Committee on Wednesday made clear in a letter to Biden administration officials they plan to investigate federal funding to Ukraine to examine potential “waste, fraud, and abuse” in spending.  McCarthy, meanwhile, hasn’t made a decision on what position he will ultimately take. But McCaul, in assuring Zelensky he will consider sending additional weapons and aid to Ukraine, did so with the private backing of McCarthy, a person familiar with the discussions told CNN.   McCarthy has also supported House Oversight Chairman James Comer’s probe into the potential misuse of previous US aid, a second person familiar with the talks said. McCarthy also approved Comer sending the letter to Defense Secretary Lloyd Austin, Secretary of State Antony Blinken and US Agency for International Development Administrator Samantha Power seeking documents and information to understand how the departments and the agency are conducting oversight of these funds.  Divide over supplying F-16 fighter jets  Zelenky’s specific goal of obtaining US F-16 fighter jets has become an increasingly controversial ask. Both Biden and General Mark Milley, Chairman of the Joint Chiefs of Staff, have previously opposed such a move due to concerns about how it could escalate the conflict.   But the argument against providing F-16s is becoming more difficult to make as senior military leaders have privately acknowledged to GOP lawmakers in recent days that those weapons would help Ukraine win the war, according to a source familiar.   Last week, Gen. Christopher Cavoli, supreme allied commander for Europe and head of US European command, told 10 GOP lawmakers in a closed-door briefing that F-16s would help Ukraine win.  Asked if that was the case, Cavoli said “yes,” the source said, confirming details first reported by Politico.   While Cavoli’s comments go further than what senior US officials have said publicly, they also reflect diverging views within the Pentagon – notably splitting with the more cautious approach of Milley who has long been wary of any move that could provoke Russian escalation, according to multiple sources familiar with the matter.   As the push for providing those weapons intensifies, McCaul plans to hold a hearing this spring on alleged Russian war crimes, a McCaul spokesperson told CNN.  In addition to McCaul, GOP Reps. Darrell Issa of California, Keith Self of Texas, Max Miller of Ohio, Jake Ellzey of Texas, as well as Margaret Kibben, the House chaplain, were part of the delegation.\"'}"
      ]
     },
     "execution_count": 45,
     "metadata": {},
     "output_type": "execute_result"
    }
   ],
   "source": [
    "dict_cnn"
   ]
  },
  {
   "cell_type": "code",
   "execution_count": 6,
   "id": "1f0d4762",
   "metadata": {},
   "outputs": [],
   "source": [
    "lst_cnn_ukr= get_cnn()"
   ]
  },
  {
   "cell_type": "code",
   "execution_count": null,
   "id": "fc6546ee",
   "metadata": {},
   "outputs": [],
   "source": []
  }
 ],
 "metadata": {
  "kernelspec": {
   "display_name": "ironhack",
   "language": "python",
   "name": "ironhack"
  },
  "language_info": {
   "codemirror_mode": {
    "name": "ipython",
    "version": 3
   },
   "file_extension": ".py",
   "mimetype": "text/x-python",
   "name": "python",
   "nbconvert_exporter": "python",
   "pygments_lexer": "ipython3",
   "version": "3.9.15"
  },
  "toc": {
   "base_numbering": 1,
   "nav_menu": {},
   "number_sections": true,
   "sideBar": true,
   "skip_h1_title": false,
   "title_cell": "Table of Contents",
   "title_sidebar": "Contents",
   "toc_cell": false,
   "toc_position": {},
   "toc_section_display": true,
   "toc_window_display": false
  }
 },
 "nbformat": 4,
 "nbformat_minor": 5
}
