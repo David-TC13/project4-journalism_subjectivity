{
 "cells": [
  {
   "cell_type": "code",
   "execution_count": 44,
   "id": "88b0be33",
   "metadata": {},
   "outputs": [],
   "source": [
    "from selenium import webdriver\n",
    "from selenium.webdriver.common.keys import Keys\n",
    "from selenium.webdriver.common.by import By\n",
    "from selenium.webdriver.support.ui import WebDriverWait\n",
    "from selenium.webdriver.support import expected_conditions as EC\n",
    "from selenium import webdriver\n",
    "from selenium.webdriver.support.ui import Select\n",
    "import requests\n",
    "from bs4 import BeautifulSoup\n",
    "import re as re\n",
    "import time\n",
    "import pandas as pd\n",
    "import os\n",
    "import numpy as np\n",
    "\n",
    "import pymysql\n",
    "import sqlalchemy as alch\n",
    "from getpass import getpass\n",
    "\n",
    "import googletrans\n",
    "from nltk.sentiment.vader import SentimentIntensityAnalyzer\n",
    "import spacy"
   ]
  },
  {
   "cell_type": "code",
   "execution_count": 38,
   "id": "806b8140",
   "metadata": {},
   "outputs": [],
   "source": [
    "driver = webdriver.Chrome()\n",
    "url= 'https://www.elmundo.es/'\n",
    "driver.get(url)"
   ]
  },
  {
   "cell_type": "code",
   "execution_count": 33,
   "id": "6dae0573",
   "metadata": {},
   "outputs": [],
   "source": [
    "cookies_accept = driver.find_element(By.ID, 'didomi-notice-agree-button').click()\n",
    "time.sleep(5)\n",
    "click_in_bar   = driver.find_element(By.CLASS_NAME, 'ue-c-main-header__search-box').click()\n",
    "search_bar     = driver.find_element(By.XPATH, \"//label[input/@type='text']\")\n",
    "time.sleep(3)\n",
    "search_bar.send_keys('Guerra Ucrania')\n",
    "search_bar.send_keys(Keys.RETURN)"
   ]
  },
  {
   "cell_type": "code",
   "execution_count": 28,
   "id": "a5dff3f8",
   "metadata": {
    "scrolled": true
   },
   "outputs": [],
   "source": [
    "lnks=driver.find_elements(By.TAG_NAME,\"a\")\n",
    "lst_mundo=[lnk.get_attribute('href') for lnk in lnks]"
   ]
  },
  {
   "cell_type": "code",
   "execution_count": 76,
   "id": "dc433d1c",
   "metadata": {},
   "outputs": [],
   "source": [
    "lst_mundo_ukr = [url for url in lst_mundo if re.search('https://www.elmundo.es/internacional/', url)]"
   ]
  },
  {
   "cell_type": "code",
   "execution_count": 129,
   "id": "36625452",
   "metadata": {},
   "outputs": [
    {
     "data": {
      "text/plain": [
       "7"
      ]
     },
     "execution_count": 129,
     "metadata": {},
     "output_type": "execute_result"
    }
   ],
   "source": [
    "len(lst_mundo_ukr)"
   ]
  },
  {
   "cell_type": "code",
   "execution_count": 130,
   "id": "bda14d47",
   "metadata": {},
   "outputs": [],
   "source": [
    "url = lst_mundo_ukr[0]"
   ]
  },
  {
   "cell_type": "markdown",
   "id": "2d92e430",
   "metadata": {},
   "source": [
    "\n",
    "for url in lst_mundo_ukr:\n",
    "    html = requests.get(url)\n",
    "    soup = BeautifulSoup(html.content, \"html.parser\")\n",
    "    \n",
    "    \n",
    "    "
   ]
  },
  {
   "cell_type": "code",
   "execution_count": 131,
   "id": "081fb897",
   "metadata": {},
   "outputs": [],
   "source": [
    "html = requests.get(url)"
   ]
  },
  {
   "cell_type": "code",
   "execution_count": 142,
   "id": "aab39e9e",
   "metadata": {},
   "outputs": [],
   "source": [
    "soup = BeautifulSoup(html.content, \"html.parser\")\n"
   ]
  },
  {
   "cell_type": "code",
   "execution_count": 159,
   "id": "89265aca",
   "metadata": {},
   "outputs": [
    {
     "data": {
      "text/plain": [
       "'articleBody\": \"La Unión Europea adoptó este sábado el décimo paquete de sanciones contra Rusia, que incluye, entre otras cuestiones, un veto a la exportación de tecnología de uso militar y medidas contra empresas iraníes que suministran drones a Moscú. Los Veintisiete llegaron a un acuerdo a nivel de embajadores este viernes &quot;in extremis&quot;, coincidiendo con el primer aniversario de la guerra en Ucrania, y se dieron hasta las 11.30 horas de este sábado para refrendar lo pactado. Las sanciones serán publicadas en las próximas horas en el Diario Oficial de la UE como último paso. &quot;Ahora tenemos las mayores sanciones nunca impuestas, agotando el arsenal de guerra de Rusia y mordiendo profundamente su economía. También estamos aumentando la presión sobre aquellos que intentan sortear nuestras sanciones&quot;, destacó en Twitter la presidenta de la Comisión Europea, Ursula von der Leyen. &quot;El décimo paquete de sanciones está adoptado&quot;, celebró en la misma red social el alto representante de Asuntos Exteriores de la UE, Josep Borrell, quien añadió que el bloque &quot;sigue comprometido en su determinación para hacer mella en la máquina de guerra de Rusia&quot;. Las negociaciones entre los países de la UE se habían atascado en las últimas horas por el volumen de las cuotas de goma sintética que los Estados miembros podrán importar desde Rusia, ya que Polonia quería rebajarlas, aunque finalmente el acuerdo llegó tras más de 24 horas. El paquete acordado incluye, por ejemplo, restricciones más estrictas a la exportación de tecnología y productos de doble uso, medidas restringidas selectivas contra personas y entidades que apoyen la guerra, difundan propaganda o entreguen drones utilizados por Rusia en la guerra. También incluye 47 componentes electrónicos que Rusia puede utilizar en sus sistemas armamentísticos, como pueden ser drones, misiles y helicópteros, de tal manera que teniendo en cuenta los nueve paquetes anteriores se habrán prohibido ya todos los productos tecnológicos encontrados en el campo de batalla. El décimo paquete de represalias contra el Kremlin sanciona también a siete empresas iraníes vinculadas a la Guardia Revolucionaria que fabrican los drones que Teherán está dando a Moscú para bombardear Ucrania e inicia el procedimiento para suspender las licencias de emisión a RT Arabic y Sputnik Arabic. &quot;Están bajo el control directo o indirecto de forma permanente por parte de la cúpula de la Federación Rusa y han sido utilizados por ésta para sus acciones continuas y concertadas de desinformación y propaganda de guerra&quot;, explicó el Consejo de la UE en un comunicado. Las nuevas medidas incluyen a 121 individuos y empresas rusas, entre ellos a miembros del Ejército &quot;responsables de la deportación y adopción forzada de al menos 6.000 menores ucranianos&quot;, destacó Borrell. &quot;Esta es una clara violación del derecho internacional, incluida la convención de Ginebra&quot;, como planteé en el Consejo de Seguridad de la ONU, explicó. De la misma forma, introduce nuevas obligaciones de información con respecto a los fondos y recursos económicos de personas y entidades sancionadas, así como sobre reservas y activos del Banco Central de Rusia inmovilizados por los Estados miembros. Por otro lado, introduce la prohibición de ofrecer capacidad de almacenamiento de gas a individuos rusos (con la excepción de parte de las instalaciones de gas natural licuado) con el objetivo de &quot;proteger la seguridad de suministro en la UE y evitar que el suministro de gas sea utilizado como arma de guerra&quot; por Moscú. Aunque no forma parte de esta décima ronda de sanciones, los Veintisiete se han comprometido a buscar fórmulas con el G7 para sancionar la importación de diamantes rusos y, por ahora, no llegaron a un acuerdo para sancionar a Rosatom la empresa estatal rusa encargada del desarrollo de la energía nuclear, tal como pide Ucrania.\",\\n\\n                                        \"description\": \"La Unión Europea adoptó este sábado el décimo paquete de sanciones contra Rusia, que incluye, entre otras cuestiones, un veto a la exportación de tecnología de uso militar y...\",\\n                \"isAccessibleForFree\": false,\\n                \"hasPart\":\\n                {\\n                    \"@type\": \"WebPageElement\",\\n                    \"isAccessibleForFree\": false,\\n                    \"cssSelector\": \".meteredwall\"\\n                },\\n                \"isPartOf\": {\\n                    \"@type\": [\"CreativeWork\", \"Product\"],\\n                    \"name\": \"El Mundo\",\\n                    \"productID\": \"elmundo.es:basic\"\\n                }\\n                    }\\n    '"
      ]
     },
     "execution_count": 159,
     "metadata": {},
     "output_type": "execute_result"
    }
   ],
   "source": [
    "tags = soup.find_all(\"script\", attrs = {'type':\"application/ld+json\"})\n",
    "tags_1=tags[0].getText()\n",
    "#text_description = tags[0].getText().replace(\"\\n\", \"\").replace(\">\", \"\").strip()\n",
    "#text_description\n",
    "type(tags_1)\n",
    "tags_1[tags_1.find('articleBody'):]"
   ]
  },
  {
   "cell_type": "code",
   "execution_count": null,
   "id": "2a01d683",
   "metadata": {},
   "outputs": [],
   "source": []
  }
 ],
 "metadata": {
  "kernelspec": {
   "display_name": "ironhack",
   "language": "python",
   "name": "ironhack"
  },
  "language_info": {
   "codemirror_mode": {
    "name": "ipython",
    "version": 3
   },
   "file_extension": ".py",
   "mimetype": "text/x-python",
   "name": "python",
   "nbconvert_exporter": "python",
   "pygments_lexer": "ipython3",
   "version": "3.9.15"
  },
  "toc": {
   "base_numbering": 1,
   "nav_menu": {},
   "number_sections": true,
   "sideBar": true,
   "skip_h1_title": false,
   "title_cell": "Table of Contents",
   "title_sidebar": "Contents",
   "toc_cell": false,
   "toc_position": {},
   "toc_section_display": true,
   "toc_window_display": false
  }
 },
 "nbformat": 4,
 "nbformat_minor": 5
}
