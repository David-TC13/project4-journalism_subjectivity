{
 "cells": [
  {
   "cell_type": "code",
   "execution_count": 1,
   "id": "4fd74b91",
   "metadata": {},
   "outputs": [],
   "source": [
    "from selenium import webdriver\n",
    "from selenium.webdriver.common.keys import Keys\n",
    "from selenium.webdriver.common.by import By\n",
    "from selenium.webdriver.support.ui import WebDriverWait\n",
    "from selenium.webdriver.support import expected_conditions as EC\n",
    "from selenium import webdriver\n",
    "from selenium.webdriver.support.ui import Select\n",
    "import requests\n",
    "\n",
    "from bs4 import BeautifulSoup\n",
    "import re as re\n",
    "import time\n",
    "import pandas as pd\n",
    "import numpy as np\n",
    "\n",
    "import nltk\n",
    "from nltk.sentiment.vader import SentimentIntensityAnalyzer\n",
    "from nltk.corpus import stopwords\n",
    "\n",
    "from wordcloud import WordCloud\n",
    "from langdetect import detect\n",
    "from textblob import TextBlob\n",
    "import spacy"
   ]
  },
  {
   "cell_type": "code",
   "execution_count": 2,
   "id": "eeac2b46",
   "metadata": {},
   "outputs": [],
   "source": [
    "def get_bbc():\n",
    "    driver = webdriver.Chrome()\n",
    "    url= 'https://www.bbc.com/news'\n",
    "    driver.get(url)\n",
    "    time.sleep(5)\n",
    "    cookies_accept = driver.find_element(By.CLASS_NAME, 'fc-button').click()\n",
    "    search_bar     = driver.find_element(By.CLASS_NAME, 'ux-v5').click()\n",
    "    search_bar     = driver.find_element(By.ID, 'search-input')\n",
    "    search_bar.send_keys('Ukraine war')\n",
    "    search_bar.send_keys(Keys.RETURN)\n",
    "    \n",
    "    lnks           = driver.find_elements(By.TAG_NAME,\"a\")\n",
    "    lst_bbc        = [lnk.get_attribute('href') for lnk in lnks]\n",
    "    lst_bbc_ukr    = [url for url in lst_bbc if '/news/' in url]\n",
    " \n",
    "    return lst_bbc_ukr"
   ]
  },
  {
   "cell_type": "code",
   "execution_count": 3,
   "id": "cba779ed",
   "metadata": {},
   "outputs": [],
   "source": [
    "def bbc_list(lst_bbc_ukr):\n",
    "    dict_article_bbc={}\n",
    "    for url in lst_bbc_ukr:\n",
    "        html = requests.get(url)\n",
    "        soup = BeautifulSoup(html.content, \"html.parser\")\n",
    "        article=soup.getText().replace('\\'', \"´\").strip()\n",
    "        dict_article_bbc[url]=article\n",
    "    return dict_article_bbc"
   ]
  },
  {
   "cell_type": "code",
   "execution_count": 4,
   "id": "02e43514",
   "metadata": {},
   "outputs": [],
   "source": [
    "def descriptives(dict_article_bbc):\n",
    "    length=[len(articles) for articles in dict_article_bbc.values()]\n",
    "    lst_polarity = [round(TextBlob(article).sentiment.polarity,5) for article in dict_article_bbc.values()]\n",
    "    lst_subjectivity = [round(TextBlob(article).sentiment.subjectivity,5) for article in dict_article_bbc.values()]\n",
    "    ukraine=[articles.lower().count('ukraine') for articles in dict_article_bbc.values()]\n",
    "    war=[articles.lower().count('war') for articles in dict_article_bbc.values()]\n",
    "    russia=[articles.lower().count('russia') for articles in dict_article_bbc.values()]\n",
    "    putin = [articles.lower().count('putin') for articles in dict_article_bbc.values()]\n",
    "    zelensky= [articles.lower().count('zelensky') for articles in dict_article_bbc.values()]\n",
    "    dict_length= {'polarity':lst_polarity,'subjetivity':lst_subjectivity,'length':length,'ukraine':ukraine,'war':war, 'russia':russia,'putin':putin,'zelensky':zelensky}\n",
    "    df_descriptive= pd.DataFrame(dict_length)\n",
    "    return df_descriptive"
   ]
  },
  {
   "cell_type": "code",
   "execution_count": 5,
   "id": "d8160521",
   "metadata": {},
   "outputs": [],
   "source": [
    "def create_df_bbc(dict_article_bbc):\n",
    "    dict_article_bbc = bbc_list(lst_bbc_ukr)\n",
    "    idx= {'article'}\n",
    "    df_bbc= pd.DataFrame(dict_article_bbc,idx).transpose().reset_index()\n",
    "    df_bbc= df_bbc.rename(columns={\"index\": \"link\"})\n",
    "    return df_bbc"
   ]
  },
  {
   "cell_type": "code",
   "execution_count": 6,
   "id": "ae290a0e",
   "metadata": {},
   "outputs": [],
   "source": [
    "lst_bbc_ukr = get_bbc()"
   ]
  },
  {
   "cell_type": "code",
   "execution_count": 7,
   "id": "c2082264",
   "metadata": {},
   "outputs": [
    {
     "data": {
      "text/plain": [
       "9"
      ]
     },
     "execution_count": 7,
     "metadata": {},
     "output_type": "execute_result"
    }
   ],
   "source": [
    "len(lst_bbc_ukr)"
   ]
  },
  {
   "cell_type": "code",
   "execution_count": 8,
   "id": "bec1e9f0",
   "metadata": {},
   "outputs": [
    {
     "data": {
      "text/plain": [
       "9"
      ]
     },
     "execution_count": 8,
     "metadata": {},
     "output_type": "execute_result"
    }
   ],
   "source": [
    "dict_article_bbc=bbc_list(lst_bbc_ukr)\n",
    "len(dict_article_bbc)"
   ]
  },
  {
   "cell_type": "code",
   "execution_count": 9,
   "id": "fbeef548",
   "metadata": {},
   "outputs": [],
   "source": [
    "df_descriptive =descriptives(dict_article_bbc)\n"
   ]
  },
  {
   "cell_type": "code",
   "execution_count": 10,
   "id": "e6b79864",
   "metadata": {},
   "outputs": [],
   "source": [
    "df_bbc = create_df_bbc(dict_article_bbc)"
   ]
  },
  {
   "cell_type": "code",
   "execution_count": 11,
   "id": "f68c36a1",
   "metadata": {},
   "outputs": [],
   "source": [
    "df_bbc_together = df_bbc.join(df_descriptive)"
   ]
  },
  {
   "cell_type": "code",
   "execution_count": 12,
   "id": "ff62a9d1",
   "metadata": {},
   "outputs": [
    {
     "data": {
      "text/html": [
       "<div>\n",
       "<style scoped>\n",
       "    .dataframe tbody tr th:only-of-type {\n",
       "        vertical-align: middle;\n",
       "    }\n",
       "\n",
       "    .dataframe tbody tr th {\n",
       "        vertical-align: top;\n",
       "    }\n",
       "\n",
       "    .dataframe thead th {\n",
       "        text-align: right;\n",
       "    }\n",
       "</style>\n",
       "<table border=\"1\" class=\"dataframe\">\n",
       "  <thead>\n",
       "    <tr style=\"text-align: right;\">\n",
       "      <th></th>\n",
       "      <th>link</th>\n",
       "      <th>article</th>\n",
       "      <th>polarity</th>\n",
       "      <th>subjetivity</th>\n",
       "      <th>length</th>\n",
       "      <th>ukraine</th>\n",
       "      <th>war</th>\n",
       "      <th>russia</th>\n",
       "      <th>putin</th>\n",
       "      <th>zelensky</th>\n",
       "    </tr>\n",
       "  </thead>\n",
       "  <tbody>\n",
       "    <tr>\n",
       "      <th>0</th>\n",
       "      <td>https://www.bbc.co.uk/news/uk-scotland-glasgow...</td>\n",
       "      <td>Ukraine war: I told friends I´d play football,...</td>\n",
       "      <td>0.06872</td>\n",
       "      <td>0.47202</td>\n",
       "      <td>8145</td>\n",
       "      <td>23</td>\n",
       "      <td>9</td>\n",
       "      <td>6</td>\n",
       "      <td>1</td>\n",
       "      <td>0</td>\n",
       "    </tr>\n",
       "    <tr>\n",
       "      <th>1</th>\n",
       "      <td>https://www.bbc.co.uk/news/uk-northern-ireland...</td>\n",
       "      <td>Ukraine War: ‘I saw bodies just lying in the s...</td>\n",
       "      <td>0.12368</td>\n",
       "      <td>0.25658</td>\n",
       "      <td>3625</td>\n",
       "      <td>14</td>\n",
       "      <td>10</td>\n",
       "      <td>2</td>\n",
       "      <td>0</td>\n",
       "      <td>4</td>\n",
       "    </tr>\n",
       "    <tr>\n",
       "      <th>2</th>\n",
       "      <td>https://www.bbc.co.uk/news/uk-england-london-6...</td>\n",
       "      <td>Ukraine war: Road outside Russian Embassy rena...</td>\n",
       "      <td>-0.02608</td>\n",
       "      <td>0.30426</td>\n",
       "      <td>5582</td>\n",
       "      <td>12</td>\n",
       "      <td>10</td>\n",
       "      <td>11</td>\n",
       "      <td>3</td>\n",
       "      <td>0</td>\n",
       "    </tr>\n",
       "    <tr>\n",
       "      <th>3</th>\n",
       "      <td>https://www.bbc.co.uk/news/uk-england-derbyshi...</td>\n",
       "      <td>Ukraine war: ´Settling somewhere new is hard -...</td>\n",
       "      <td>0.05441</td>\n",
       "      <td>0.45468</td>\n",
       "      <td>4059</td>\n",
       "      <td>13</td>\n",
       "      <td>9</td>\n",
       "      <td>4</td>\n",
       "      <td>0</td>\n",
       "      <td>4</td>\n",
       "    </tr>\n",
       "    <tr>\n",
       "      <th>4</th>\n",
       "      <td>https://www.bbc.co.uk/news/world-europe-64740093</td>\n",
       "      <td>Ukraine war a violation of international law -...</td>\n",
       "      <td>0.17721</td>\n",
       "      <td>0.31735</td>\n",
       "      <td>3225</td>\n",
       "      <td>13</td>\n",
       "      <td>11</td>\n",
       "      <td>3</td>\n",
       "      <td>0</td>\n",
       "      <td>4</td>\n",
       "    </tr>\n",
       "    <tr>\n",
       "      <th>5</th>\n",
       "      <td>https://www.bbc.co.uk/news/uk-england-northamp...</td>\n",
       "      <td>Ukraine war: ´We have belief in our president ...</td>\n",
       "      <td>0.02955</td>\n",
       "      <td>0.43767</td>\n",
       "      <td>8175</td>\n",
       "      <td>22</td>\n",
       "      <td>13</td>\n",
       "      <td>8</td>\n",
       "      <td>2</td>\n",
       "      <td>0</td>\n",
       "    </tr>\n",
       "    <tr>\n",
       "      <th>6</th>\n",
       "      <td>https://www.bbc.co.uk/news/world-europe-64762219</td>\n",
       "      <td>Ukraine war: Zelensky wants Xi Jinping meeting...</td>\n",
       "      <td>0.02912</td>\n",
       "      <td>0.37101</td>\n",
       "      <td>8285</td>\n",
       "      <td>24</td>\n",
       "      <td>18</td>\n",
       "      <td>21</td>\n",
       "      <td>8</td>\n",
       "      <td>10</td>\n",
       "    </tr>\n",
       "    <tr>\n",
       "      <th>7</th>\n",
       "      <td>https://www.bbc.co.uk/news/uk-england-wiltshir...</td>\n",
       "      <td>Ukraine war: Refugee friendships forged in Swi...</td>\n",
       "      <td>0.03151</td>\n",
       "      <td>0.43237</td>\n",
       "      <td>6252</td>\n",
       "      <td>7</td>\n",
       "      <td>5</td>\n",
       "      <td>2</td>\n",
       "      <td>1</td>\n",
       "      <td>0</td>\n",
       "    </tr>\n",
       "    <tr>\n",
       "      <th>8</th>\n",
       "      <td>https://www.bbc.co.uk/news/help-41670342</td>\n",
       "      <td>Learn how the BBC is working to strengthen tru...</td>\n",
       "      <td>0.14551</td>\n",
       "      <td>0.44835</td>\n",
       "      <td>9558</td>\n",
       "      <td>1</td>\n",
       "      <td>1</td>\n",
       "      <td>0</td>\n",
       "      <td>0</td>\n",
       "      <td>0</td>\n",
       "    </tr>\n",
       "  </tbody>\n",
       "</table>\n",
       "</div>"
      ],
      "text/plain": [
       "                                                link  \\\n",
       "0  https://www.bbc.co.uk/news/uk-scotland-glasgow...   \n",
       "1  https://www.bbc.co.uk/news/uk-northern-ireland...   \n",
       "2  https://www.bbc.co.uk/news/uk-england-london-6...   \n",
       "3  https://www.bbc.co.uk/news/uk-england-derbyshi...   \n",
       "4   https://www.bbc.co.uk/news/world-europe-64740093   \n",
       "5  https://www.bbc.co.uk/news/uk-england-northamp...   \n",
       "6   https://www.bbc.co.uk/news/world-europe-64762219   \n",
       "7  https://www.bbc.co.uk/news/uk-england-wiltshir...   \n",
       "8           https://www.bbc.co.uk/news/help-41670342   \n",
       "\n",
       "                                             article  polarity  subjetivity  \\\n",
       "0  Ukraine war: I told friends I´d play football,...   0.06872      0.47202   \n",
       "1  Ukraine War: ‘I saw bodies just lying in the s...   0.12368      0.25658   \n",
       "2  Ukraine war: Road outside Russian Embassy rena...  -0.02608      0.30426   \n",
       "3  Ukraine war: ´Settling somewhere new is hard -...   0.05441      0.45468   \n",
       "4  Ukraine war a violation of international law -...   0.17721      0.31735   \n",
       "5  Ukraine war: ´We have belief in our president ...   0.02955      0.43767   \n",
       "6  Ukraine war: Zelensky wants Xi Jinping meeting...   0.02912      0.37101   \n",
       "7  Ukraine war: Refugee friendships forged in Swi...   0.03151      0.43237   \n",
       "8  Learn how the BBC is working to strengthen tru...   0.14551      0.44835   \n",
       "\n",
       "   length  ukraine  war  russia  putin  zelensky  \n",
       "0    8145       23    9       6      1         0  \n",
       "1    3625       14   10       2      0         4  \n",
       "2    5582       12   10      11      3         0  \n",
       "3    4059       13    9       4      0         4  \n",
       "4    3225       13   11       3      0         4  \n",
       "5    8175       22   13       8      2         0  \n",
       "6    8285       24   18      21      8        10  \n",
       "7    6252        7    5       2      1         0  \n",
       "8    9558        1    1       0      0         0  "
      ]
     },
     "execution_count": 12,
     "metadata": {},
     "output_type": "execute_result"
    }
   ],
   "source": [
    "df_bbc_together"
   ]
  },
  {
   "cell_type": "code",
   "execution_count": null,
   "id": "328a7669",
   "metadata": {},
   "outputs": [],
   "source": []
  }
 ],
 "metadata": {
  "kernelspec": {
   "display_name": "ironhack",
   "language": "python",
   "name": "ironhack"
  },
  "language_info": {
   "codemirror_mode": {
    "name": "ipython",
    "version": 3
   },
   "file_extension": ".py",
   "mimetype": "text/x-python",
   "name": "python",
   "nbconvert_exporter": "python",
   "pygments_lexer": "ipython3",
   "version": "3.9.15"
  },
  "toc": {
   "base_numbering": 1,
   "nav_menu": {},
   "number_sections": true,
   "sideBar": true,
   "skip_h1_title": false,
   "title_cell": "Table of Contents",
   "title_sidebar": "Contents",
   "toc_cell": false,
   "toc_position": {},
   "toc_section_display": true,
   "toc_window_display": false
  }
 },
 "nbformat": 4,
 "nbformat_minor": 5
}
