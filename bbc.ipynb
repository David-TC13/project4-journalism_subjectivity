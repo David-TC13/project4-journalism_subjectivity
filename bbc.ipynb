{
 "cells": [
  {
   "cell_type": "code",
   "execution_count": 1,
   "id": "4fd74b91",
   "metadata": {},
   "outputs": [],
   "source": [
    "from selenium import webdriver\n",
    "from selenium.webdriver.common.keys import Keys\n",
    "from selenium.webdriver.common.by import By\n",
    "from selenium.webdriver.support.ui import WebDriverWait\n",
    "from selenium.webdriver.support import expected_conditions as EC\n",
    "from selenium import webdriver\n",
    "from selenium.webdriver.support.ui import Select\n",
    "import requests\n",
    "\n",
    "from bs4 import BeautifulSoup\n",
    "import re as re\n",
    "import time\n",
    "import pandas as pd\n",
    "import os\n",
    "import numpy as np\n",
    "\n",
    "import pymysql\n",
    "import sqlalchemy as alch\n",
    "from getpass import getpass\n",
    "\n",
    "import googletrans\n",
    "from nltk.sentiment.vader import SentimentIntensityAnalyzer\n",
    "import spacy"
   ]
  },
  {
   "cell_type": "code",
   "execution_count": 4,
   "id": "eeac2b46",
   "metadata": {},
   "outputs": [],
   "source": [
    "def getting_bbc():\n",
    "    driver = webdriver.Chrome()\n",
    "    url= 'https://www.bbc.com/news'\n",
    "    driver.get(url)\n",
    "    cookies_accept = driver.find_element(By.CLASS_NAME, 'fc-button').click()\n",
    "    search_bar     = driver.find_element(By.CLASS_NAME, 'ux-v5').click()\n",
    "    search_bar     = driver.find_element(By.ID, 'search-input')\n",
    "    search_bar.send_keys('Ukraine')\n",
    "    search_bar.send_keys(Keys.RETURN)\n",
    "    lnks=driver.find_elements(By.TAG_NAME,\"a\")\n",
    "    lst_bbc=[lnk.get_attribute('href') for lnk in lnks]\n",
    "    lst_bbc_ukr = [url for url in lst_bbc if re.search('https://www.bbc.co.uk/news', url)]\n",
    "    return lst_bbc_ukr"
   ]
  },
  {
   "cell_type": "code",
   "execution_count": 5,
   "id": "1719bcf8",
   "metadata": {},
   "outputs": [],
   "source": [
    "lst_bbc_ukr = getting_bbc()"
   ]
  },
  {
   "cell_type": "code",
   "execution_count": 33,
   "id": "5f6d2d5c",
   "metadata": {},
   "outputs": [],
   "source": [
    "def bbc_list(lst_bbc_ukr):\n",
    "    lst_article_bbc=[]\n",
    "    for url in lst_bbc_ukr:\n",
    "        html = requests.get(url)\n",
    "        soup = BeautifulSoup(html.content, \"html.parser\")\n",
    "        article=soup.getText().replace('\\'', \"´\").strip()\n",
    "        lst_article_bbc.append(article)\n",
    "    return lst_article_bbc"
   ]
  },
  {
   "cell_type": "code",
   "execution_count": 34,
   "id": "510e6132",
   "metadata": {},
   "outputs": [],
   "source": [
    "lst_article_bbc=bbc_list(lst_bbc_ukr)"
   ]
  },
  {
   "cell_type": "code",
   "execution_count": 36,
   "id": "aa720c33",
   "metadata": {},
   "outputs": [
    {
     "data": {
      "text/plain": [
       "11"
      ]
     },
     "execution_count": 36,
     "metadata": {},
     "output_type": "execute_result"
    }
   ],
   "source": [
    "len(lst_article_bbc)"
   ]
  },
  {
   "cell_type": "code",
   "execution_count": 37,
   "id": "0240cc30",
   "metadata": {},
   "outputs": [],
   "source": [
    "dict_bbc={'link':lst_bbc_ukr, 'article': lst_article_bbc}"
   ]
  },
  {
   "cell_type": "code",
   "execution_count": 39,
   "id": "cacbde03",
   "metadata": {},
   "outputs": [
    {
     "data": {
      "text/html": [
       "<div>\n",
       "<style scoped>\n",
       "    .dataframe tbody tr th:only-of-type {\n",
       "        vertical-align: middle;\n",
       "    }\n",
       "\n",
       "    .dataframe tbody tr th {\n",
       "        vertical-align: top;\n",
       "    }\n",
       "\n",
       "    .dataframe thead th {\n",
       "        text-align: right;\n",
       "    }\n",
       "</style>\n",
       "<table border=\"1\" class=\"dataframe\">\n",
       "  <thead>\n",
       "    <tr style=\"text-align: right;\">\n",
       "      <th></th>\n",
       "      <th>link</th>\n",
       "      <th>article</th>\n",
       "    </tr>\n",
       "  </thead>\n",
       "  <tbody>\n",
       "    <tr>\n",
       "      <th>0</th>\n",
       "      <td>https://www.bbc.co.uk/news/uk-england-wiltshir...</td>\n",
       "      <td>Group to cycle the shape of Ukraine in fundrai...</td>\n",
       "    </tr>\n",
       "    <tr>\n",
       "      <th>1</th>\n",
       "      <td>https://www.bbc.co.uk/news/uk-england-derbyshi...</td>\n",
       "      <td>Ukraine war: ´Settling somewhere new is hard -...</td>\n",
       "    </tr>\n",
       "    <tr>\n",
       "      <th>2</th>\n",
       "      <td>https://www.bbc.co.uk/news/world-europe-64762219</td>\n",
       "      <td>Ukraine war: Zelensky wants Xi Jinping meeting...</td>\n",
       "    </tr>\n",
       "    <tr>\n",
       "      <th>3</th>\n",
       "      <td>https://www.bbc.co.uk/news/blogs-the-papers-64...</td>\n",
       "      <td>Newspaper headlines: ´PM to seal Brexit deal´ ...</td>\n",
       "    </tr>\n",
       "    <tr>\n",
       "      <th>4</th>\n",
       "      <td>https://www.bbc.co.uk/news/world-europe-64766558</td>\n",
       "      <td>Ukraine war: Russia interrupts UN minute´s sil...</td>\n",
       "    </tr>\n",
       "    <tr>\n",
       "      <th>5</th>\n",
       "      <td>https://www.bbc.co.uk/news/uk-england-leeds-64...</td>\n",
       "      <td>Ukraine invasion: Mother tells of arduous jour...</td>\n",
       "    </tr>\n",
       "    <tr>\n",
       "      <th>6</th>\n",
       "      <td>https://www.bbc.co.uk/news/world-europe-jersey...</td>\n",
       "      <td>Jersey provides more donations to support Ukra...</td>\n",
       "    </tr>\n",
       "    <tr>\n",
       "      <th>7</th>\n",
       "      <td>https://www.bbc.co.uk/news/world-europe-isle-o...</td>\n",
       "      <td>Russia-Ukraine war: Isle of Man marks invasion...</td>\n",
       "    </tr>\n",
       "    <tr>\n",
       "      <th>8</th>\n",
       "      <td>https://www.bbc.co.uk/news/uk-england-sussex-6...</td>\n",
       "      <td>Ukraine war: Chef helps feed Ukrainian soldier...</td>\n",
       "    </tr>\n",
       "    <tr>\n",
       "      <th>9</th>\n",
       "      <td>https://www.bbc.co.uk/news/uk-england-merseysi...</td>\n",
       "      <td>Liverpool´s Strawberry Field to unveil Ukraine...</td>\n",
       "    </tr>\n",
       "    <tr>\n",
       "      <th>10</th>\n",
       "      <td>https://www.bbc.co.uk/news/help-41670342</td>\n",
       "      <td>Learn how the BBC is working to strengthen tru...</td>\n",
       "    </tr>\n",
       "  </tbody>\n",
       "</table>\n",
       "</div>"
      ],
      "text/plain": [
       "                                                 link  \\\n",
       "0   https://www.bbc.co.uk/news/uk-england-wiltshir...   \n",
       "1   https://www.bbc.co.uk/news/uk-england-derbyshi...   \n",
       "2    https://www.bbc.co.uk/news/world-europe-64762219   \n",
       "3   https://www.bbc.co.uk/news/blogs-the-papers-64...   \n",
       "4    https://www.bbc.co.uk/news/world-europe-64766558   \n",
       "5   https://www.bbc.co.uk/news/uk-england-leeds-64...   \n",
       "6   https://www.bbc.co.uk/news/world-europe-jersey...   \n",
       "7   https://www.bbc.co.uk/news/world-europe-isle-o...   \n",
       "8   https://www.bbc.co.uk/news/uk-england-sussex-6...   \n",
       "9   https://www.bbc.co.uk/news/uk-england-merseysi...   \n",
       "10           https://www.bbc.co.uk/news/help-41670342   \n",
       "\n",
       "                                              article  \n",
       "0   Group to cycle the shape of Ukraine in fundrai...  \n",
       "1   Ukraine war: ´Settling somewhere new is hard -...  \n",
       "2   Ukraine war: Zelensky wants Xi Jinping meeting...  \n",
       "3   Newspaper headlines: ´PM to seal Brexit deal´ ...  \n",
       "4   Ukraine war: Russia interrupts UN minute´s sil...  \n",
       "5   Ukraine invasion: Mother tells of arduous jour...  \n",
       "6   Jersey provides more donations to support Ukra...  \n",
       "7   Russia-Ukraine war: Isle of Man marks invasion...  \n",
       "8   Ukraine war: Chef helps feed Ukrainian soldier...  \n",
       "9   Liverpool´s Strawberry Field to unveil Ukraine...  \n",
       "10  Learn how the BBC is working to strengthen tru...  "
      ]
     },
     "execution_count": 39,
     "metadata": {},
     "output_type": "execute_result"
    }
   ],
   "source": [
    "pd.DataFrame(dict_bbc)"
   ]
  },
  {
   "cell_type": "code",
   "execution_count": null,
   "id": "ff21c432",
   "metadata": {},
   "outputs": [],
   "source": []
  }
 ],
 "metadata": {
  "kernelspec": {
   "display_name": "ironhack",
   "language": "python",
   "name": "ironhack"
  },
  "language_info": {
   "codemirror_mode": {
    "name": "ipython",
    "version": 3
   },
   "file_extension": ".py",
   "mimetype": "text/x-python",
   "name": "python",
   "nbconvert_exporter": "python",
   "pygments_lexer": "ipython3",
   "version": "3.9.15"
  },
  "toc": {
   "base_numbering": 1,
   "nav_menu": {},
   "number_sections": true,
   "sideBar": true,
   "skip_h1_title": false,
   "title_cell": "Table of Contents",
   "title_sidebar": "Contents",
   "toc_cell": false,
   "toc_position": {},
   "toc_section_display": true,
   "toc_window_display": false
  }
 },
 "nbformat": 4,
 "nbformat_minor": 5
}
