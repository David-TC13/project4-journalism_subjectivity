{
 "cells": [
  {
   "cell_type": "code",
   "execution_count": 1,
   "id": "4fd74b91",
   "metadata": {},
   "outputs": [],
   "source": [
    "from selenium import webdriver\n",
    "from selenium.webdriver.common.keys import Keys\n",
    "from selenium.webdriver.common.by import By\n",
    "from selenium.webdriver.support.ui import WebDriverWait\n",
    "from selenium.webdriver.support import expected_conditions as EC\n",
    "from selenium import webdriver\n",
    "from selenium.webdriver.support.ui import Select\n",
    "\n",
    "from bs4 import BeautifulSoup\n",
    "import re as re\n",
    "import time\n",
    "import pandas as pd\n",
    "import os\n",
    "import numpy as np\n",
    "\n",
    "import pymysql\n",
    "import sqlalchemy as alch\n",
    "from getpass import getpass\n",
    "\n",
    "import googletrans\n",
    "from nltk.sentiment.vader import SentimentIntensityAnalyzer\n",
    "import spacy"
   ]
  },
  {
   "cell_type": "code",
   "execution_count": 15,
   "id": "eeac2b46",
   "metadata": {},
   "outputs": [],
   "source": [
    "driver = webdriver.Chrome()\n",
    "url= 'https://www.bbc.com/news'\n",
    "driver.get(url)\n",
    "time.sleep(3)"
   ]
  },
  {
   "cell_type": "code",
   "execution_count": null,
   "id": "b16c67fc",
   "metadata": {},
   "outputs": [],
   "source": [
    "cookies_accept = driver.find_element(By.CLASS_NAME, 'fc-button').click()\n",
    "time.sleep(3)\n",
    "search_bar     = driver.find_element(By.CLASS_NAME, 'ux-v5').click()\n",
    "time.sleep(3)\n",
    "search_bar     = driver.find_element(By.ID, 'search-input')\n",
    "time.sleep(3)\n",
    "search_bar.send_keys('Ukraine')\n",
    "search_bar.send_keys(Keys.RETURN)"
   ]
  },
  {
   "cell_type": "code",
   "execution_count": 21,
   "id": "106d88a5",
   "metadata": {},
   "outputs": [],
   "source": [
    "lnks=driver.find_elements(By.TAG_NAME,\"a\")\n",
    "lst_bbc=[lnk.get_attribute('href') for lnk in lnks]"
   ]
  },
  {
   "cell_type": "code",
   "execution_count": 25,
   "id": "b9da1e24",
   "metadata": {},
   "outputs": [],
   "source": [
    "lst_bbc_ukr = [url for url in lst_bbc if re.search('https://www.bbc.co.uk/news', url)]"
   ]
  },
  {
   "cell_type": "code",
   "execution_count": 28,
   "id": "8dd2c00f",
   "metadata": {},
   "outputs": [
    {
     "data": {
      "text/plain": [
       "11"
      ]
     },
     "execution_count": 28,
     "metadata": {},
     "output_type": "execute_result"
    }
   ],
   "source": [
    "len(lst_bbc_ukr)"
   ]
  },
  {
   "cell_type": "code",
   "execution_count": null,
   "id": "6e0ac030",
   "metadata": {},
   "outputs": [],
   "source": []
  },
  {
   "cell_type": "code",
   "execution_count": null,
   "id": "df330922",
   "metadata": {},
   "outputs": [],
   "source": []
  },
  {
   "cell_type": "code",
   "execution_count": null,
   "id": "b8d83aa6",
   "metadata": {},
   "outputs": [],
   "source": []
  }
 ],
 "metadata": {
  "kernelspec": {
   "display_name": "ironhack",
   "language": "python",
   "name": "ironhack"
  },
  "language_info": {
   "codemirror_mode": {
    "name": "ipython",
    "version": 3
   },
   "file_extension": ".py",
   "mimetype": "text/x-python",
   "name": "python",
   "nbconvert_exporter": "python",
   "pygments_lexer": "ipython3",
   "version": "3.9.15"
  },
  "toc": {
   "base_numbering": 1,
   "nav_menu": {},
   "number_sections": true,
   "sideBar": true,
   "skip_h1_title": false,
   "title_cell": "Table of Contents",
   "title_sidebar": "Contents",
   "toc_cell": false,
   "toc_position": {},
   "toc_section_display": true,
   "toc_window_display": false
  }
 },
 "nbformat": 4,
 "nbformat_minor": 5
}
